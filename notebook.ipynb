{
  "cells": [
    {
      "cell_type": "markdown",
      "metadata": {},
      "source": [
        "# Transformers for Battery States Estimation\n",
        "\n",
        "**Author:** Ahmed Abdulmaksoud\n",
        "**Email** abdula96@mcmaster.ca\n",
        "\n",
        "---\n",
        "\n",
        "## Introduction\n",
        "\n",
        "This notebook demonstrates the use of Transformer models for estimating the state of charge (SoC) in batteries. The Transformer architecture, originally designed for natural language processing tasks, has shown great promise in time-series forecasting and regression tasks due to its ability to capture long-range dependencies.\n",
        "\n",
        "---\n",
        "\n",
        "## Dataset\n",
        "\n",
        "The dataset used in this notebook is derived from battery charge and discharge cycles. It includes various features such as voltage, current, and temperature readings at different time steps. The dataset is split into training, validation, and test sets to evaluate the performance of the model.\n",
        "\n",
        "---\n",
        "\n",
        "## Algorithms\n",
        "\n",
        "### Transformer Model\n",
        "\n",
        "The Transformer model is an advanced neural network architecture that relies on self-attention mechanisms to process input sequences. It consists of an encoder and a decoder, each composed of multiple layers of self-attention and feedforward neural networks.\n",
        "\n",
        "#### Encoder\n",
        "\n",
        "The encoder processes the input sequence and generates a set of attention-based representations. Each encoder layer consists of a multi-head self-attention mechanism followed by a feedforward neural network.\n",
        "\n",
        "#### Decoder\n",
        "\n",
        "The decoder takes the encoder's output and generates the final prediction. Similar to the encoder, each decoder layer consists of a multi-head self-attention mechanism and a feedforward neural network. Additionally, the decoder uses masked self-attention to ensure that predictions for a given time step depend only on previous time steps.\n",
        "\n",
        "### Training and Evaluation\n",
        "\n",
        "The model is trained using the Mean Squared Error (MSE) loss function, which measures the average squared difference between the predicted and actual SoC values. The Adam optimizer is used to update the model's parameters. Early stopping and learning rate scheduling are employed to prevent overfitting and improve convergence.\n",
        "\n",
        "---\n",
        "\n",
        "Let's dive into the implementation!"
      ]
    },
    {
      "cell_type": "code",
      "execution_count": null,
      "metadata": {},
      "outputs": [],
      "source": [
        "# UNCOMMENT AND RUN IF YOU NEED TO INSTALL PACKAGES\n",
        "# ! pip install -q torch torchvision numpy pandas matplotlib tensorboard optuna"
      ]
    },
    {
      "cell_type": "code",
      "execution_count": 2,
      "metadata": {
        "id": "mgnkrUVErlhP"
      },
      "outputs": [],
      "source": [
        "import numpy as np\n",
        "\n",
        "import pandas as pd\n",
        "\n",
        "import matplotlib.pyplot as plt\n",
        "%matplotlib inline\n",
        "\n",
        "import torch\n",
        "\n",
        "from torch import nn"
      ]
    },
    {
      "cell_type": "code",
      "execution_count": 3,
      "metadata": {
        "id": "VtT4DJ93rlhR"
      },
      "outputs": [],
      "source": [
        "from data_providers.LGDataset import SequentialLGDataset, get_dataloader"
      ]
    },
    {
      "cell_type": "markdown",
      "metadata": {},
      "source": [
        "## Data Preparation\n",
        "\n",
        "A sequential dataset is created using the sliding window technique. This technique involves sliding a window of length `s` (representing your sequence length) to predict the next State of Charge (SoC). The diagram below illustrates the sliding window used in `data_providers/LGDataset.py`.\n",
        "\n",
        "![image](./imgs/slidingwindow.png)\n"
      ]
    },
    {
      "cell_type": "code",
      "execution_count": 4,
      "metadata": {},
      "outputs": [],
      "source": [
        "train_data = SequentialLGDataset(\n",
        "    path='datasets/train.csv',\n",
        "    sequence_length=64,\n",
        ")\n",
        "\n",
        "valid_data = SequentialLGDataset(\n",
        "    path='datasets/valid.csv',\n",
        "    sequence_length=64,\n",
        ")\n",
        "\n",
        "BATCH_SIZE = 64\n",
        "\n",
        "trainloader = get_dataloader(train_data, batch_size=BATCH_SIZE, shuffle=True)\n",
        "validloader = get_dataloader(valid_data, batch_size=BATCH_SIZE, shuffle=False)"
      ]
    },
    {
      "cell_type": "code",
      "execution_count": 5,
      "metadata": {
        "id": "nGSf1CdprlhS"
      },
      "outputs": [],
      "source": [
        "from typing import Any\n",
        "import torch.nn.functional as F\n",
        "\n",
        "class Embedding(nn.Module):\n",
        "    def __init__(self, input_size:int, output_size:int)->None:\n",
        "        \"\"\"\n",
        "        This class is used to create an embedding layer between the input and the output size\n",
        "\n",
        "        Parameters\n",
        "        ----------\n",
        "        input_size: int\n",
        "            The size of the input\n",
        "        output_size: int\n",
        "            The size of the output\n",
        "        \"\"\"\n",
        "        super(Embedding, self).__init__()\n",
        "        self.embedding = nn.Linear(input_size, output_size)  # embedding between the input and the output size\n",
        "\n",
        "    def forward(self, x:torch.Tensor)->torch.Tensor:\n",
        "        \"\"\"\n",
        "        This function is used to pass the input through the embedding layer\n",
        "\n",
        "        Parameters\n",
        "        ----------\n",
        "        x: torch.Tensor\n",
        "            The input tensor\n",
        "\n",
        "        Returns\n",
        "        -------\n",
        "        torch.Tensor\n",
        "            The output tensor\n",
        "        \"\"\"\n",
        "        return self.embedding(x)"
      ]
    },
    {
      "cell_type": "markdown",
      "metadata": {},
      "source": [
        "## Transformer for SoC Estimation\n",
        "CHANGE THIS INTO ONLY TWO TOWER\n",
        "![image](./imgs/transformer_for_soc.png)\n",
        "\n",
        "- The following code implements the Transformer architecture in the previous photo. Note how pytorch abstracts the implementation of the encoder and the decoder.\n",
        "- Note that we're <strong>NOT USING THE 1D CNN </strong> at the end"
      ]
    },
    {
      "cell_type": "code",
      "execution_count": 6,
      "metadata": {},
      "outputs": [],
      "source": [
        "\n",
        "class Transformer(nn.Module):\n",
        "    def __init__(\n",
        "        self, \n",
        "        input_size:int,\n",
        "        embed_size:int,\n",
        "        hidden_size:int,\n",
        "        e_num_layers:int,\n",
        "        d_num_layer:int, \n",
        "        num_heads:int,\n",
        "        output_size:int,\n",
        "        dropout:float\n",
        "        )->None:\n",
        "        '''\n",
        "        This class is used to create a transformer model for the prediction of the SoC\n",
        "\n",
        "        Parameters\n",
        "        ----------\n",
        "        input_size: int\n",
        "            The size of the input\n",
        "        embed_size: int\n",
        "            The size of the embedding\n",
        "        hidden_size: int\n",
        "            The size of the hidden layer\n",
        "        e_num_layers: int\n",
        "            The number of encoder layers\n",
        "        d_num_layer: int\n",
        "            The number of decoder layers\n",
        "        num_heads: int\n",
        "            The number of attention heads\n",
        "        output_size: int\n",
        "            The size of the output\n",
        "        dropout: float\n",
        "            The dropout rate\n",
        "\n",
        "        '''\n",
        "        super(Transformer, self).__init__()\n",
        "\n",
        "        # embedding\n",
        "        self.in_embedding = Embedding(input_size, embed_size)\n",
        "        self.out_embedding = Embedding(input_size, embed_size)\n",
        "\n",
        "        # encoders\n",
        "        self.current_encoder = nn.TransformerEncoder(\n",
        "            nn.TransformerEncoderLayer(\n",
        "                d_model=embed_size, # set the embedding size of the input\n",
        "                nhead=num_heads,   # set the number of attention heads\n",
        "                dim_feedforward=hidden_size, # set the dimension of the inner feedforward network\n",
        "                activation='gelu', # set the activation function of the inner feedforward network\n",
        "                dropout=dropout, # set the dropout rate of the encoder\n",
        "                batch_first=True # set the batch dimension to be the first dimension, returns the output in the shape of (batch_size, seq_len, embed_size)\n",
        "            ),\n",
        "            num_layers=e_num_layers # number of encoder layers\n",
        "        )\n",
        "        self.voltage_encoder = nn.TransformerEncoder(\n",
        "            nn.TransformerEncoderLayer(\n",
        "                d_model=embed_size, # set the embedding size of the input\n",
        "                nhead=num_heads,  # set the number of attention heads\n",
        "                dim_feedforward=hidden_size, # set the dimension of the inner feedforward network\n",
        "                activation='gelu', # set the activation function of the inner feedforward network\n",
        "                dropout=dropout, # set the dropout rate of the encoder\n",
        "                batch_first=True # set the batch dimension to be the first dimension, returns the output in the shape of (batch_size, seq_len, embed_size)\n",
        "            ),\n",
        "            num_layers=e_num_layers # number of encoder layers\n",
        "        )\n",
        "\n",
        "        # decoder\n",
        "        self.decoder = nn.TransformerDecoder(\n",
        "            nn.TransformerDecoderLayer(\n",
        "                d_model=embed_size*2, # set the embedding size of the output (concatenation of current and voltage embeddings)\n",
        "                nhead=num_heads, # set the number of attention heads\n",
        "                dim_feedforward=hidden_size, # set the dimension of the inner feedforward network\n",
        "                dropout=dropout, # set the dropout rate of the decoder\n",
        "                batch_first=True # set the batch dimension to be the first dimension, returns the output in the shape of (batch_size, seq_len, embed_size)\n",
        "            ),\n",
        "            num_layers=d_num_layer # number of decoder layers\n",
        "        )\n",
        "\n",
        "        # output layer\n",
        "        self.output_layer = nn.Linear(embed_size*2, output_size) # set the output size to 1 to predict the SoC\n",
        "\n",
        "\n",
        "    def forward(\n",
        "        self, \n",
        "        current_temp:torch.Tensor,\n",
        "        voltage_temp:torch.Tensor,\n",
        "        dec_current_temp:torch.Tensor,\n",
        "        dec_voltage_temp:torch.Tensor\n",
        "        )->torch.Tensor:\n",
        "        '''Forward pass of the transformer model\n",
        "        \n",
        "        Parameters\n",
        "        ----------\n",
        "        current_temp: torch.Tensor\n",
        "            The current temperature tensor\n",
        "        voltage_temp: torch.Tensor\n",
        "            The voltage temperature tensor\n",
        "        dec_current_temp: torch.Tensor\n",
        "            The current temperature tensor for the decoder\n",
        "        dec_voltage_temp: torch.Tensor\n",
        "            The voltage temperature tensor for the decoder\n",
        "\n",
        "        Returns\n",
        "        -------\n",
        "        torch.Tensor\n",
        "            The output tensor\n",
        "        '''\n",
        "        # encoder\n",
        "        current_temp = self.in_embedding(current_temp) # (batch_size, seq_len, embed_size)\n",
        "        voltage_temp = self.in_embedding(voltage_temp) # (batch_size, seq_len, embed_size)\n",
        "        current_temp = self.current_encoder(current_temp) # (batch_size, seq_len, embed_size)\n",
        "        voltage_temp = self.voltage_encoder(voltage_temp) # (batch_size, seq_len, embed_size)\n",
        "\n",
        "        # decoder\n",
        "        mask = torch.triu(torch.ones(current_temp.size(1), current_temp.size(1)), diagonal=1).bool().to(current_temp.device)\n",
        "        cat_context = torch.cat((current_temp, voltage_temp), dim=2) # (seq_len, batch_size, 2*input_size)\n",
        "        dec_current_temp = self.out_embedding(dec_current_temp) # (batch_size, seq_len, embed_size)\n",
        "        dec_voltage_temp = self.out_embedding(dec_voltage_temp) # (batch_size, seq_len, embed_size)\n",
        "        cat_dec_context = torch.cat((dec_current_temp, dec_voltage_temp), dim=2) # (batch_size, seq_len, 2*input_size)\n",
        "        output = self.decoder(cat_dec_context, cat_context, tgt_mask=mask) # (batch_size, seq_len, 2*input_size)\n",
        "\n",
        "        return self.output_layer(output) # (batch_size, seq_len, 1)\n",
        "\n",
        "    def training_step(\n",
        "        self, \n",
        "        current_temp:torch.Tensor, \n",
        "        voltage_temp:torch.Tensor, \n",
        "        dec_current_temp:torch.Tensor, \n",
        "        dec_voltage_temp:torch.Tensor, \n",
        "        target:torch.Tensor, \n",
        "        optimizer:torch.optim.Optimizer\n",
        "        )->float:\n",
        "        '''Training step of the transformer model\n",
        "\n",
        "        Parameters\n",
        "        ----------\n",
        "        current_temp: torch.Tensor\n",
        "            The current temperature tensor\n",
        "        voltage_temp: torch.Tensor\n",
        "            The voltage temperature tensor\n",
        "        dec_current_temp: torch.Tensor\n",
        "            The current temperature tensor for the decoder\n",
        "        dec_voltage_temp: torch.Tensor\n",
        "            The voltage temperature tensor for the decoder\n",
        "        target: torch.Tensor\n",
        "            The target tensor\n",
        "        optimizer: torch.optim.Optimizer\n",
        "            The optimizer\n",
        "\n",
        "        Returns\n",
        "        -------\n",
        "        float\n",
        "            The loss value\n",
        "        '''\n",
        "        # transfer data to device (either CPU or GPU if available)\n",
        "        device = next(self.parameters()).device\n",
        "\n",
        "        current_temp = current_temp.to(device)\n",
        "        voltage_temp = voltage_temp.to(device)\n",
        "        dec_current_temp = dec_current_temp.to(device)\n",
        "        dec_voltage_temp = dec_voltage_temp.to(device)\n",
        "        target = target.to(device)\n",
        "\n",
        "        # forward and backward passes\n",
        "        output = self(current_temp, voltage_temp, dec_current_temp, dec_voltage_temp)\n",
        "        loss = F.mse_loss(output, target)\n",
        "        optimizer.zero_grad()\n",
        "        loss.backward()\n",
        "        optimizer.step()\n",
        "\n",
        "        return loss.item()\n",
        "\n",
        "    def validation_step(\n",
        "        self,\n",
        "        current_temp:torch.Tensor, \n",
        "        voltage_temp:torch.Tensor, \n",
        "        dec_current_temp:torch.Tensor, \n",
        "        dec_voltage_temp:torch.Tensor, \n",
        "        target:torch.Tensor\n",
        "        )->float:\n",
        "        '''Validation step of the transformer model\n",
        "\n",
        "        Parameters\n",
        "        ----------\n",
        "        current_temp: torch.Tensor\n",
        "            The current temperature tensor\n",
        "        voltage_temp: torch.Tensor\n",
        "            The voltage temperature tensor\n",
        "        dec_current_temp: torch.Tensor\n",
        "            The current temperature tensor for the decoder\n",
        "        dec_voltage_temp: torch.Tensor\n",
        "            The voltage temperature tensor for the decoder\n",
        "\n",
        "        Returns\n",
        "        -------\n",
        "        float\n",
        "            The loss value\n",
        "        '''\n",
        "        # transfer data to device\n",
        "        device = next(self.parameters()).device\n",
        "        current_temp = current_temp.to(device)\n",
        "        voltage_temp = voltage_temp.to(device)\n",
        "        dec_current_temp = dec_current_temp.to(device)\n",
        "        dec_voltage_temp = dec_voltage_temp.to(device)\n",
        "        target = target.to(device)\n",
        "\n",
        "        # forward pass\n",
        "        with torch.no_grad():\n",
        "            output = self(current_temp, voltage_temp, dec_current_temp, dec_voltage_temp)\n",
        "            loss = F.mse_loss(output, target)\n",
        "\n",
        "        return loss.item()"
      ]
    },
    {
      "cell_type": "code",
      "execution_count": 7,
      "metadata": {
        "colab": {
          "base_uri": "https://localhost:8080/"
        },
        "id": "7Kuf1EtMrlhT",
        "outputId": "28ac6db9-df62-4a79-c86f-8ab2c5a118d0"
      },
      "outputs": [
        {
          "name": "stderr",
          "output_type": "stream",
          "text": [
            "c:\\Users\\abdula96\\AppData\\Local\\Programs\\Python\\Python312\\Lib\\site-packages\\torch\\nn\\modules\\transformer.py:286: UserWarning: enable_nested_tensor is True, but self.use_nested_tensor is False because encoder_layer.self_attn.num_heads is odd\n",
            "  warnings.warn(f\"enable_nested_tensor is True, but self.use_nested_tensor is False because {why_not_sparsity_fast_path}\")\n"
          ]
        }
      ],
      "source": [
        "from IPython.display import clear_output\n",
        "\n",
        "model = Transformer(\n",
        "    input_size=2,\n",
        "    embed_size=64,\n",
        "    hidden_size=2048,\n",
        "    e_num_layers=2,\n",
        "    d_num_layer=2,\n",
        "    num_heads=1,\n",
        "    output_size=1,\n",
        "    dropout=0.1\n",
        ");"
      ]
    },
    {
      "cell_type": "code",
      "execution_count": 5,
      "metadata": {
        "colab": {
          "base_uri": "https://localhost:8080/"
        },
        "id": "rFQQgE7IrlhU",
        "outputId": "494705e6-372c-4c8a-8185-16b7b139b31d"
      },
      "outputs": [
        {
          "name": "stdout",
          "output_type": "stream",
          "text": [
            "The model has 2,443,777 trainable parameters\n"
          ]
        }
      ],
      "source": [
        "# caluclate the number of parameters\n",
        "def count_parameters(model):\n",
        "    return sum(p.numel() for p in model.parameters() if p.requires_grad)\n",
        "\n",
        "print(f'The model has {count_parameters(model):,} trainable parameters')"
      ]
    },
    {
      "cell_type": "code",
      "execution_count": 6,
      "metadata": {
        "colab": {
          "base_uri": "https://localhost:8080/"
        },
        "id": "ee84BH_1rlhV",
        "outputId": "a4ca606b-b8aa-458d-b01a-32259f2666f2"
      },
      "outputs": [
        {
          "name": "stdout",
          "output_type": "stream",
          "text": [
            "torch.Size([64, 64, 1]) torch.Size([64, 64, 1])\n"
          ]
        }
      ],
      "source": [
        "# sanity check for our model\n",
        "volt, current, dec_volt, dec_current, target = next(iter(trainloader))\n",
        "\n",
        "output = model(current, volt, dec_current, dec_volt)\n",
        "print(output.shape, target.shape)"
      ]
    },
    {
      "cell_type": "markdown",
      "metadata": {
        "id": "ERLCW_KSrlhV"
      },
      "source": [
        "### Determine Hyperparameters\n",
        "\n",
        "- Optuna is a good library to perform hyperparameter tuning on your behalf\n",
        "- It trains the model and uses optimization-based approaches to update the hyperparameters of the model in the direction of the loss improvement"
      ]
    },
    {
      "cell_type": "code",
      "execution_count": 8,
      "metadata": {
        "id": "x8wWlLWorlhW"
      },
      "outputs": [
        {
          "name": "stderr",
          "output_type": "stream",
          "text": [
            "c:\\Users\\abdula96\\AppData\\Local\\Programs\\Python\\Python312\\Lib\\site-packages\\tqdm\\auto.py:21: TqdmWarning: IProgress not found. Please update jupyter and ipywidgets. See https://ipywidgets.readthedocs.io/en/stable/user_install.html\n",
            "  from .autonotebook import tqdm as notebook_tqdm\n"
          ]
        }
      ],
      "source": [
        "# use optuna to tune the hyperparameters\n",
        "import optuna\n",
        "\n",
        "def objective(trial):\n",
        "    \"\"\"\n",
        "    Objective function for hyperparameter optimization using Optuna.\n",
        "\n",
        "    This function defines a Transformer model and trains it using the provided\n",
        "    hyperparameters suggested by the Optuna trial. The model is trained for a \n",
        "    fixed number of epochs, and the validation loss is reported to Optuna for \n",
        "    pruning and optimization.\n",
        "\n",
        "    Parameters\n",
        "    ----------\n",
        "    trial : optuna.trial.Trial\n",
        "        A trial object that suggests hyperparameters.\n",
        "    Returns\n",
        "    -------\n",
        "    float\n",
        "        The mean validation loss after training.\n",
        "        \n",
        "    Raises\n",
        "    ------\n",
        "    optuna.TrialPruned\n",
        "        If the trial should be pruned based on the validation loss.\n",
        "    \"\"\"\n",
        "    model = Transformer(\n",
        "        input_size=2,\n",
        "        hidden_size=trial.suggest_int('hidden_size', 512, 4096),\n",
        "        e_num_layers=trial.suggest_int('e_num_layers', 1, 4),\n",
        "        d_num_layer=trial.suggest_int('d_num_layer', 1, 4),\n",
        "        num_heads=trial.suggest_int('num_heads', 1, 2),\n",
        "        output_size=1,\n",
        "        dropout=trial.suggest_float('dropout', 0.1, 0.2)\n",
        "    )\n",
        "\n",
        "    device = torch.device('cuda' if torch.cuda.is_available() else 'cpu')\n",
        "    model.to(device)\n",
        "\n",
        "    optimizer = torch.optim.Adam(model.parameters(), lr=trial.suggest_float('lr', 1e-5, 1e-3))\n",
        "\n",
        "    for epoch in range(10):\n",
        "        model.train()\n",
        "        # only train for 5 iterations\n",
        "        itr = 0\n",
        "        for volt, current, dec_volt, dec_current, target in trainloader:\n",
        "            loss = model.training_step(current, volt, dec_current, dec_volt, target, optimizer)\n",
        "            itr += 1\n",
        "            if itr == 5:\n",
        "                break\n",
        "\n",
        "        model.eval()\n",
        "        losses = []\n",
        "        for volt, current, dec_volt, dec_current, target in validloader:\n",
        "            loss = model.validation_step(current, volt, dec_current, dec_volt, target)\n",
        "            losses.append(loss)\n",
        "\n",
        "        trial.report(np.mean(losses), epoch)\n",
        "\n",
        "        if trial.should_prune():\n",
        "            raise optuna.TrialPruned()\n",
        "\n",
        "    return np.mean(losses)"
      ]
    },
    {
      "cell_type": "code",
      "execution_count": 9,
      "metadata": {
        "id": "6ifp-YocrlhX"
      },
      "outputs": [],
      "source": [
        "## UNCOMMENT AND RUN TO FIND SUB-OPTIMAL HYPERPARAMETERS\n",
        "# study = optuna.create_study(direction='minimize')\n",
        "# study.optimize(objective, n_trials=100)\n",
        "\n",
        "# # save the study object to pickle file\n",
        "# import pickle\n",
        "\n",
        "# with open('study.pkl', 'wb') as f:\n",
        "#     pickle.dump(study, f)\n",
        "\n",
        "# # save the best hyperparameters\n",
        "# best_params = study.best_params\n",
        "# with open('best_params.pkl', 'wb') as f:\n",
        "#     pickle.dump(best_params, f)"
      ]
    },
    {
      "cell_type": "code",
      "execution_count": 10,
      "metadata": {
        "colab": {
          "base_uri": "https://localhost:8080/",
          "height": 542
        },
        "id": "-y1n2j5_rlhX",
        "outputId": "24f3763e-a261-45eb-948c-87e25788ca75"
      },
      "outputs": [
        {
          "data": {
            "application/vnd.plotly.v1+json": {
              "config": {
                "plotlyServerURL": "https://plot.ly"
              },
              "data": [
                {
                  "mode": "markers",
                  "name": "Objective Value",
                  "type": "scatter",
                  "x": [
                    0,
                    1,
                    2,
                    3,
                    4,
                    10,
                    12,
                    30,
                    32,
                    34
                  ],
                  "y": [
                    0.06588386800060736,
                    0.015603425178522624,
                    0.07296751546082594,
                    0.012087901770962414,
                    0.06417988821888775,
                    0.0268422974602163,
                    0.007522873692153562,
                    0.005550445341607247,
                    0.008898299933789797,
                    0.005467187457498229
                  ]
                },
                {
                  "mode": "lines",
                  "name": "Best Value",
                  "type": "scatter",
                  "x": [
                    0,
                    1,
                    2,
                    3,
                    4,
                    5,
                    6,
                    7,
                    8,
                    9,
                    10,
                    11,
                    12,
                    13,
                    14,
                    15,
                    16,
                    17,
                    18,
                    19,
                    20,
                    21,
                    22,
                    23,
                    24,
                    25,
                    26,
                    27,
                    28,
                    29,
                    30,
                    31,
                    32,
                    33,
                    34,
                    35,
                    36,
                    37,
                    38,
                    39,
                    40,
                    41,
                    42,
                    43,
                    44,
                    45,
                    46,
                    47,
                    48,
                    49,
                    50,
                    51,
                    52,
                    53,
                    54,
                    55,
                    56,
                    57,
                    58,
                    59,
                    60,
                    61,
                    62,
                    63,
                    64,
                    65,
                    66,
                    67,
                    68,
                    69,
                    70,
                    71,
                    72,
                    73,
                    74,
                    75,
                    76,
                    77,
                    78,
                    79,
                    80,
                    81,
                    82,
                    83,
                    84,
                    85,
                    86,
                    87,
                    88,
                    89,
                    90,
                    91,
                    92,
                    93,
                    94,
                    95,
                    96,
                    97,
                    98,
                    99
                  ],
                  "y": [
                    0.06588386800060736,
                    0.015603425178522624,
                    0.015603425178522624,
                    0.012087901770962414,
                    0.012087901770962414,
                    0.012087901770962414,
                    0.012087901770962414,
                    0.012087901770962414,
                    0.012087901770962414,
                    0.012087901770962414,
                    0.012087901770962414,
                    0.012087901770962414,
                    0.007522873692153562,
                    0.007522873692153562,
                    0.007522873692153562,
                    0.007522873692153562,
                    0.007522873692153562,
                    0.007522873692153562,
                    0.007522873692153562,
                    0.007522873692153562,
                    0.007522873692153562,
                    0.007522873692153562,
                    0.007522873692153562,
                    0.007522873692153562,
                    0.007522873692153562,
                    0.007522873692153562,
                    0.007522873692153562,
                    0.007522873692153562,
                    0.007522873692153562,
                    0.007522873692153562,
                    0.005550445341607247,
                    0.005550445341607247,
                    0.005550445341607247,
                    0.005550445341607247,
                    0.005467187457498229,
                    0.005467187457498229,
                    0.005467187457498229,
                    0.005467187457498229,
                    0.005467187457498229,
                    0.005467187457498229,
                    0.005467187457498229,
                    0.005467187457498229,
                    0.005467187457498229,
                    0.005467187457498229,
                    0.005467187457498229,
                    0.005467187457498229,
                    0.005467187457498229,
                    0.005467187457498229,
                    0.005467187457498229,
                    0.005467187457498229,
                    0.005467187457498229,
                    0.005467187457498229,
                    0.005467187457498229,
                    0.005467187457498229,
                    0.005467187457498229,
                    0.005467187457498229,
                    0.005467187457498229,
                    0.005467187457498229,
                    0.005467187457498229,
                    0.005467187457498229,
                    0.005467187457498229,
                    0.005467187457498229,
                    0.005467187457498229,
                    0.005467187457498229,
                    0.005467187457498229,
                    0.005467187457498229,
                    0.005467187457498229,
                    0.005467187457498229,
                    0.005467187457498229,
                    0.005467187457498229,
                    0.005467187457498229,
                    0.005467187457498229,
                    0.005467187457498229,
                    0.005467187457498229,
                    0.005467187457498229,
                    0.005467187457498229,
                    0.005467187457498229,
                    0.005467187457498229,
                    0.005467187457498229,
                    0.005467187457498229,
                    0.005467187457498229,
                    0.005467187457498229,
                    0.005467187457498229,
                    0.005467187457498229,
                    0.005467187457498229,
                    0.005467187457498229,
                    0.005467187457498229,
                    0.005467187457498229,
                    0.005467187457498229,
                    0.005467187457498229,
                    0.005467187457498229,
                    0.005467187457498229,
                    0.005467187457498229,
                    0.005467187457498229,
                    0.005467187457498229,
                    0.005467187457498229,
                    0.005467187457498229,
                    0.005467187457498229,
                    0.005467187457498229,
                    0.005467187457498229
                  ]
                },
                {
                  "marker": {
                    "color": "#cccccc"
                  },
                  "mode": "markers",
                  "name": "Infeasible Trial",
                  "showlegend": false,
                  "type": "scatter",
                  "x": [],
                  "y": []
                }
              ],
              "layout": {
                "template": {
                  "data": {
                    "bar": [
                      {
                        "error_x": {
                          "color": "#2a3f5f"
                        },
                        "error_y": {
                          "color": "#2a3f5f"
                        },
                        "marker": {
                          "line": {
                            "color": "#E5ECF6",
                            "width": 0.5
                          },
                          "pattern": {
                            "fillmode": "overlay",
                            "size": 10,
                            "solidity": 0.2
                          }
                        },
                        "type": "bar"
                      }
                    ],
                    "barpolar": [
                      {
                        "marker": {
                          "line": {
                            "color": "#E5ECF6",
                            "width": 0.5
                          },
                          "pattern": {
                            "fillmode": "overlay",
                            "size": 10,
                            "solidity": 0.2
                          }
                        },
                        "type": "barpolar"
                      }
                    ],
                    "carpet": [
                      {
                        "aaxis": {
                          "endlinecolor": "#2a3f5f",
                          "gridcolor": "white",
                          "linecolor": "white",
                          "minorgridcolor": "white",
                          "startlinecolor": "#2a3f5f"
                        },
                        "baxis": {
                          "endlinecolor": "#2a3f5f",
                          "gridcolor": "white",
                          "linecolor": "white",
                          "minorgridcolor": "white",
                          "startlinecolor": "#2a3f5f"
                        },
                        "type": "carpet"
                      }
                    ],
                    "choropleth": [
                      {
                        "colorbar": {
                          "outlinewidth": 0,
                          "ticks": ""
                        },
                        "type": "choropleth"
                      }
                    ],
                    "contour": [
                      {
                        "colorbar": {
                          "outlinewidth": 0,
                          "ticks": ""
                        },
                        "colorscale": [
                          [
                            0,
                            "#0d0887"
                          ],
                          [
                            0.1111111111111111,
                            "#46039f"
                          ],
                          [
                            0.2222222222222222,
                            "#7201a8"
                          ],
                          [
                            0.3333333333333333,
                            "#9c179e"
                          ],
                          [
                            0.4444444444444444,
                            "#bd3786"
                          ],
                          [
                            0.5555555555555556,
                            "#d8576b"
                          ],
                          [
                            0.6666666666666666,
                            "#ed7953"
                          ],
                          [
                            0.7777777777777778,
                            "#fb9f3a"
                          ],
                          [
                            0.8888888888888888,
                            "#fdca26"
                          ],
                          [
                            1,
                            "#f0f921"
                          ]
                        ],
                        "type": "contour"
                      }
                    ],
                    "contourcarpet": [
                      {
                        "colorbar": {
                          "outlinewidth": 0,
                          "ticks": ""
                        },
                        "type": "contourcarpet"
                      }
                    ],
                    "heatmap": [
                      {
                        "colorbar": {
                          "outlinewidth": 0,
                          "ticks": ""
                        },
                        "colorscale": [
                          [
                            0,
                            "#0d0887"
                          ],
                          [
                            0.1111111111111111,
                            "#46039f"
                          ],
                          [
                            0.2222222222222222,
                            "#7201a8"
                          ],
                          [
                            0.3333333333333333,
                            "#9c179e"
                          ],
                          [
                            0.4444444444444444,
                            "#bd3786"
                          ],
                          [
                            0.5555555555555556,
                            "#d8576b"
                          ],
                          [
                            0.6666666666666666,
                            "#ed7953"
                          ],
                          [
                            0.7777777777777778,
                            "#fb9f3a"
                          ],
                          [
                            0.8888888888888888,
                            "#fdca26"
                          ],
                          [
                            1,
                            "#f0f921"
                          ]
                        ],
                        "type": "heatmap"
                      }
                    ],
                    "heatmapgl": [
                      {
                        "colorbar": {
                          "outlinewidth": 0,
                          "ticks": ""
                        },
                        "colorscale": [
                          [
                            0,
                            "#0d0887"
                          ],
                          [
                            0.1111111111111111,
                            "#46039f"
                          ],
                          [
                            0.2222222222222222,
                            "#7201a8"
                          ],
                          [
                            0.3333333333333333,
                            "#9c179e"
                          ],
                          [
                            0.4444444444444444,
                            "#bd3786"
                          ],
                          [
                            0.5555555555555556,
                            "#d8576b"
                          ],
                          [
                            0.6666666666666666,
                            "#ed7953"
                          ],
                          [
                            0.7777777777777778,
                            "#fb9f3a"
                          ],
                          [
                            0.8888888888888888,
                            "#fdca26"
                          ],
                          [
                            1,
                            "#f0f921"
                          ]
                        ],
                        "type": "heatmapgl"
                      }
                    ],
                    "histogram": [
                      {
                        "marker": {
                          "pattern": {
                            "fillmode": "overlay",
                            "size": 10,
                            "solidity": 0.2
                          }
                        },
                        "type": "histogram"
                      }
                    ],
                    "histogram2d": [
                      {
                        "colorbar": {
                          "outlinewidth": 0,
                          "ticks": ""
                        },
                        "colorscale": [
                          [
                            0,
                            "#0d0887"
                          ],
                          [
                            0.1111111111111111,
                            "#46039f"
                          ],
                          [
                            0.2222222222222222,
                            "#7201a8"
                          ],
                          [
                            0.3333333333333333,
                            "#9c179e"
                          ],
                          [
                            0.4444444444444444,
                            "#bd3786"
                          ],
                          [
                            0.5555555555555556,
                            "#d8576b"
                          ],
                          [
                            0.6666666666666666,
                            "#ed7953"
                          ],
                          [
                            0.7777777777777778,
                            "#fb9f3a"
                          ],
                          [
                            0.8888888888888888,
                            "#fdca26"
                          ],
                          [
                            1,
                            "#f0f921"
                          ]
                        ],
                        "type": "histogram2d"
                      }
                    ],
                    "histogram2dcontour": [
                      {
                        "colorbar": {
                          "outlinewidth": 0,
                          "ticks": ""
                        },
                        "colorscale": [
                          [
                            0,
                            "#0d0887"
                          ],
                          [
                            0.1111111111111111,
                            "#46039f"
                          ],
                          [
                            0.2222222222222222,
                            "#7201a8"
                          ],
                          [
                            0.3333333333333333,
                            "#9c179e"
                          ],
                          [
                            0.4444444444444444,
                            "#bd3786"
                          ],
                          [
                            0.5555555555555556,
                            "#d8576b"
                          ],
                          [
                            0.6666666666666666,
                            "#ed7953"
                          ],
                          [
                            0.7777777777777778,
                            "#fb9f3a"
                          ],
                          [
                            0.8888888888888888,
                            "#fdca26"
                          ],
                          [
                            1,
                            "#f0f921"
                          ]
                        ],
                        "type": "histogram2dcontour"
                      }
                    ],
                    "mesh3d": [
                      {
                        "colorbar": {
                          "outlinewidth": 0,
                          "ticks": ""
                        },
                        "type": "mesh3d"
                      }
                    ],
                    "parcoords": [
                      {
                        "line": {
                          "colorbar": {
                            "outlinewidth": 0,
                            "ticks": ""
                          }
                        },
                        "type": "parcoords"
                      }
                    ],
                    "pie": [
                      {
                        "automargin": true,
                        "type": "pie"
                      }
                    ],
                    "scatter": [
                      {
                        "fillpattern": {
                          "fillmode": "overlay",
                          "size": 10,
                          "solidity": 0.2
                        },
                        "type": "scatter"
                      }
                    ],
                    "scatter3d": [
                      {
                        "line": {
                          "colorbar": {
                            "outlinewidth": 0,
                            "ticks": ""
                          }
                        },
                        "marker": {
                          "colorbar": {
                            "outlinewidth": 0,
                            "ticks": ""
                          }
                        },
                        "type": "scatter3d"
                      }
                    ],
                    "scattercarpet": [
                      {
                        "marker": {
                          "colorbar": {
                            "outlinewidth": 0,
                            "ticks": ""
                          }
                        },
                        "type": "scattercarpet"
                      }
                    ],
                    "scattergeo": [
                      {
                        "marker": {
                          "colorbar": {
                            "outlinewidth": 0,
                            "ticks": ""
                          }
                        },
                        "type": "scattergeo"
                      }
                    ],
                    "scattergl": [
                      {
                        "marker": {
                          "colorbar": {
                            "outlinewidth": 0,
                            "ticks": ""
                          }
                        },
                        "type": "scattergl"
                      }
                    ],
                    "scattermapbox": [
                      {
                        "marker": {
                          "colorbar": {
                            "outlinewidth": 0,
                            "ticks": ""
                          }
                        },
                        "type": "scattermapbox"
                      }
                    ],
                    "scatterpolar": [
                      {
                        "marker": {
                          "colorbar": {
                            "outlinewidth": 0,
                            "ticks": ""
                          }
                        },
                        "type": "scatterpolar"
                      }
                    ],
                    "scatterpolargl": [
                      {
                        "marker": {
                          "colorbar": {
                            "outlinewidth": 0,
                            "ticks": ""
                          }
                        },
                        "type": "scatterpolargl"
                      }
                    ],
                    "scatterternary": [
                      {
                        "marker": {
                          "colorbar": {
                            "outlinewidth": 0,
                            "ticks": ""
                          }
                        },
                        "type": "scatterternary"
                      }
                    ],
                    "surface": [
                      {
                        "colorbar": {
                          "outlinewidth": 0,
                          "ticks": ""
                        },
                        "colorscale": [
                          [
                            0,
                            "#0d0887"
                          ],
                          [
                            0.1111111111111111,
                            "#46039f"
                          ],
                          [
                            0.2222222222222222,
                            "#7201a8"
                          ],
                          [
                            0.3333333333333333,
                            "#9c179e"
                          ],
                          [
                            0.4444444444444444,
                            "#bd3786"
                          ],
                          [
                            0.5555555555555556,
                            "#d8576b"
                          ],
                          [
                            0.6666666666666666,
                            "#ed7953"
                          ],
                          [
                            0.7777777777777778,
                            "#fb9f3a"
                          ],
                          [
                            0.8888888888888888,
                            "#fdca26"
                          ],
                          [
                            1,
                            "#f0f921"
                          ]
                        ],
                        "type": "surface"
                      }
                    ],
                    "table": [
                      {
                        "cells": {
                          "fill": {
                            "color": "#EBF0F8"
                          },
                          "line": {
                            "color": "white"
                          }
                        },
                        "header": {
                          "fill": {
                            "color": "#C8D4E3"
                          },
                          "line": {
                            "color": "white"
                          }
                        },
                        "type": "table"
                      }
                    ]
                  },
                  "layout": {
                    "annotationdefaults": {
                      "arrowcolor": "#2a3f5f",
                      "arrowhead": 0,
                      "arrowwidth": 1
                    },
                    "autotypenumbers": "strict",
                    "coloraxis": {
                      "colorbar": {
                        "outlinewidth": 0,
                        "ticks": ""
                      }
                    },
                    "colorscale": {
                      "diverging": [
                        [
                          0,
                          "#8e0152"
                        ],
                        [
                          0.1,
                          "#c51b7d"
                        ],
                        [
                          0.2,
                          "#de77ae"
                        ],
                        [
                          0.3,
                          "#f1b6da"
                        ],
                        [
                          0.4,
                          "#fde0ef"
                        ],
                        [
                          0.5,
                          "#f7f7f7"
                        ],
                        [
                          0.6,
                          "#e6f5d0"
                        ],
                        [
                          0.7,
                          "#b8e186"
                        ],
                        [
                          0.8,
                          "#7fbc41"
                        ],
                        [
                          0.9,
                          "#4d9221"
                        ],
                        [
                          1,
                          "#276419"
                        ]
                      ],
                      "sequential": [
                        [
                          0,
                          "#0d0887"
                        ],
                        [
                          0.1111111111111111,
                          "#46039f"
                        ],
                        [
                          0.2222222222222222,
                          "#7201a8"
                        ],
                        [
                          0.3333333333333333,
                          "#9c179e"
                        ],
                        [
                          0.4444444444444444,
                          "#bd3786"
                        ],
                        [
                          0.5555555555555556,
                          "#d8576b"
                        ],
                        [
                          0.6666666666666666,
                          "#ed7953"
                        ],
                        [
                          0.7777777777777778,
                          "#fb9f3a"
                        ],
                        [
                          0.8888888888888888,
                          "#fdca26"
                        ],
                        [
                          1,
                          "#f0f921"
                        ]
                      ],
                      "sequentialminus": [
                        [
                          0,
                          "#0d0887"
                        ],
                        [
                          0.1111111111111111,
                          "#46039f"
                        ],
                        [
                          0.2222222222222222,
                          "#7201a8"
                        ],
                        [
                          0.3333333333333333,
                          "#9c179e"
                        ],
                        [
                          0.4444444444444444,
                          "#bd3786"
                        ],
                        [
                          0.5555555555555556,
                          "#d8576b"
                        ],
                        [
                          0.6666666666666666,
                          "#ed7953"
                        ],
                        [
                          0.7777777777777778,
                          "#fb9f3a"
                        ],
                        [
                          0.8888888888888888,
                          "#fdca26"
                        ],
                        [
                          1,
                          "#f0f921"
                        ]
                      ]
                    },
                    "colorway": [
                      "#636efa",
                      "#EF553B",
                      "#00cc96",
                      "#ab63fa",
                      "#FFA15A",
                      "#19d3f3",
                      "#FF6692",
                      "#B6E880",
                      "#FF97FF",
                      "#FECB52"
                    ],
                    "font": {
                      "color": "#2a3f5f"
                    },
                    "geo": {
                      "bgcolor": "white",
                      "lakecolor": "white",
                      "landcolor": "#E5ECF6",
                      "showlakes": true,
                      "showland": true,
                      "subunitcolor": "white"
                    },
                    "hoverlabel": {
                      "align": "left"
                    },
                    "hovermode": "closest",
                    "mapbox": {
                      "style": "light"
                    },
                    "paper_bgcolor": "white",
                    "plot_bgcolor": "#E5ECF6",
                    "polar": {
                      "angularaxis": {
                        "gridcolor": "white",
                        "linecolor": "white",
                        "ticks": ""
                      },
                      "bgcolor": "#E5ECF6",
                      "radialaxis": {
                        "gridcolor": "white",
                        "linecolor": "white",
                        "ticks": ""
                      }
                    },
                    "scene": {
                      "xaxis": {
                        "backgroundcolor": "#E5ECF6",
                        "gridcolor": "white",
                        "gridwidth": 2,
                        "linecolor": "white",
                        "showbackground": true,
                        "ticks": "",
                        "zerolinecolor": "white"
                      },
                      "yaxis": {
                        "backgroundcolor": "#E5ECF6",
                        "gridcolor": "white",
                        "gridwidth": 2,
                        "linecolor": "white",
                        "showbackground": true,
                        "ticks": "",
                        "zerolinecolor": "white"
                      },
                      "zaxis": {
                        "backgroundcolor": "#E5ECF6",
                        "gridcolor": "white",
                        "gridwidth": 2,
                        "linecolor": "white",
                        "showbackground": true,
                        "ticks": "",
                        "zerolinecolor": "white"
                      }
                    },
                    "shapedefaults": {
                      "line": {
                        "color": "#2a3f5f"
                      }
                    },
                    "ternary": {
                      "aaxis": {
                        "gridcolor": "white",
                        "linecolor": "white",
                        "ticks": ""
                      },
                      "baxis": {
                        "gridcolor": "white",
                        "linecolor": "white",
                        "ticks": ""
                      },
                      "bgcolor": "#E5ECF6",
                      "caxis": {
                        "gridcolor": "white",
                        "linecolor": "white",
                        "ticks": ""
                      }
                    },
                    "title": {
                      "x": 0.05
                    },
                    "xaxis": {
                      "automargin": true,
                      "gridcolor": "white",
                      "linecolor": "white",
                      "ticks": "",
                      "title": {
                        "standoff": 15
                      },
                      "zerolinecolor": "white",
                      "zerolinewidth": 2
                    },
                    "yaxis": {
                      "automargin": true,
                      "gridcolor": "white",
                      "linecolor": "white",
                      "ticks": "",
                      "title": {
                        "standoff": 15
                      },
                      "zerolinecolor": "white",
                      "zerolinewidth": 2
                    }
                  }
                },
                "title": {
                  "text": "Optimization History Plot"
                },
                "xaxis": {
                  "title": {
                    "text": "Trial"
                  }
                },
                "yaxis": {
                  "title": {
                    "text": "Objective Value"
                  }
                }
              }
            }
          },
          "metadata": {},
          "output_type": "display_data"
        }
      ],
      "source": [
        "\n",
        "# load the study object\n",
        "import pickle\n",
        "\n",
        "with open('study.pkl', 'rb') as f:\n",
        "    study = pickle.load(f)\n",
        "\n",
        "# visualize the study\n",
        "optuna.visualization.plot_optimization_history(study).show()"
      ]
    },
    {
      "cell_type": "code",
      "execution_count": 11,
      "metadata": {
        "colab": {
          "base_uri": "https://localhost:8080/",
          "height": 542
        },
        "id": "gSLTiS8BrlhY",
        "outputId": "31824e20-73d3-42d2-dd99-b62e6a08823d"
      },
      "outputs": [
        {
          "data": {
            "application/vnd.plotly.v1+json": {
              "config": {
                "plotlyServerURL": "https://plot.ly"
              },
              "data": [
                {
                  "dimensions": [
                    {
                      "label": "Objective Value",
                      "range": [
                        0.005467187457498229,
                        0.07296751546082594
                      ],
                      "values": [
                        0.06588386800060736,
                        0.015603425178522624,
                        0.07296751546082594,
                        0.012087901770962414,
                        0.06417988821888775,
                        0.0268422974602163,
                        0.007522873692153562,
                        0.005550445341607247,
                        0.008898299933789797,
                        0.005467187457498229
                      ]
                    },
                    {
                      "label": "d_num_layer",
                      "range": [
                        1,
                        4
                      ],
                      "values": [
                        3,
                        3,
                        3,
                        3,
                        4,
                        1,
                        3,
                        4,
                        4,
                        4
                      ]
                    },
                    {
                      "label": "dropout",
                      "range": [
                        0.11081014873975435,
                        0.19772809212134476
                      ],
                      "values": [
                        0.14605339362990316,
                        0.17252631894298842,
                        0.11081014873975435,
                        0.1826695458155945,
                        0.15200596701181657,
                        0.19772809212134476,
                        0.17392554729944226,
                        0.14917981821998663,
                        0.17536331880448655,
                        0.14715460987241605
                      ]
                    },
                    {
                      "label": "e_num_layers",
                      "range": [
                        1,
                        4
                      ],
                      "values": [
                        3,
                        1,
                        1,
                        1,
                        3,
                        2,
                        2,
                        4,
                        4,
                        4
                      ]
                    },
                    {
                      "label": "hidden_size",
                      "range": [
                        525,
                        3677
                      ],
                      "values": [
                        525,
                        3677,
                        1444,
                        2295,
                        3582,
                        2746,
                        3211,
                        979,
                        1193,
                        1136
                      ]
                    },
                    {
                      "label": "lr",
                      "range": [
                        0.00007626998298288508,
                        0.0009915226854699396
                      ],
                      "values": [
                        0.0003686222697275397,
                        0.0008056552361821365,
                        0.0003921913759611889,
                        0.0005515216908890337,
                        0.00007626998298288508,
                        0.0009915226854699396,
                        0.0006875934119772456,
                        0.0007401144349459623,
                        0.0005035886035951648,
                        0.0005476147324097177
                      ]
                    },
                    {
                      "label": "num_heads",
                      "range": [
                        1,
                        2
                      ],
                      "values": [
                        1,
                        2,
                        2,
                        1,
                        2,
                        1,
                        1,
                        1,
                        1,
                        1
                      ]
                    }
                  ],
                  "labelangle": 30,
                  "labelside": "bottom",
                  "line": {
                    "color": [
                      0.06588386800060736,
                      0.015603425178522624,
                      0.07296751546082594,
                      0.012087901770962414,
                      0.06417988821888775,
                      0.0268422974602163,
                      0.007522873692153562,
                      0.005550445341607247,
                      0.008898299933789797,
                      0.005467187457498229
                    ],
                    "colorbar": {
                      "title": {
                        "text": "Objective Value"
                      }
                    },
                    "colorscale": [
                      [
                        0,
                        "rgb(247,251,255)"
                      ],
                      [
                        0.125,
                        "rgb(222,235,247)"
                      ],
                      [
                        0.25,
                        "rgb(198,219,239)"
                      ],
                      [
                        0.375,
                        "rgb(158,202,225)"
                      ],
                      [
                        0.5,
                        "rgb(107,174,214)"
                      ],
                      [
                        0.625,
                        "rgb(66,146,198)"
                      ],
                      [
                        0.75,
                        "rgb(33,113,181)"
                      ],
                      [
                        0.875,
                        "rgb(8,81,156)"
                      ],
                      [
                        1,
                        "rgb(8,48,107)"
                      ]
                    ],
                    "reversescale": true,
                    "showscale": true
                  },
                  "type": "parcoords"
                }
              ],
              "layout": {
                "template": {
                  "data": {
                    "bar": [
                      {
                        "error_x": {
                          "color": "#2a3f5f"
                        },
                        "error_y": {
                          "color": "#2a3f5f"
                        },
                        "marker": {
                          "line": {
                            "color": "#E5ECF6",
                            "width": 0.5
                          },
                          "pattern": {
                            "fillmode": "overlay",
                            "size": 10,
                            "solidity": 0.2
                          }
                        },
                        "type": "bar"
                      }
                    ],
                    "barpolar": [
                      {
                        "marker": {
                          "line": {
                            "color": "#E5ECF6",
                            "width": 0.5
                          },
                          "pattern": {
                            "fillmode": "overlay",
                            "size": 10,
                            "solidity": 0.2
                          }
                        },
                        "type": "barpolar"
                      }
                    ],
                    "carpet": [
                      {
                        "aaxis": {
                          "endlinecolor": "#2a3f5f",
                          "gridcolor": "white",
                          "linecolor": "white",
                          "minorgridcolor": "white",
                          "startlinecolor": "#2a3f5f"
                        },
                        "baxis": {
                          "endlinecolor": "#2a3f5f",
                          "gridcolor": "white",
                          "linecolor": "white",
                          "minorgridcolor": "white",
                          "startlinecolor": "#2a3f5f"
                        },
                        "type": "carpet"
                      }
                    ],
                    "choropleth": [
                      {
                        "colorbar": {
                          "outlinewidth": 0,
                          "ticks": ""
                        },
                        "type": "choropleth"
                      }
                    ],
                    "contour": [
                      {
                        "colorbar": {
                          "outlinewidth": 0,
                          "ticks": ""
                        },
                        "colorscale": [
                          [
                            0,
                            "#0d0887"
                          ],
                          [
                            0.1111111111111111,
                            "#46039f"
                          ],
                          [
                            0.2222222222222222,
                            "#7201a8"
                          ],
                          [
                            0.3333333333333333,
                            "#9c179e"
                          ],
                          [
                            0.4444444444444444,
                            "#bd3786"
                          ],
                          [
                            0.5555555555555556,
                            "#d8576b"
                          ],
                          [
                            0.6666666666666666,
                            "#ed7953"
                          ],
                          [
                            0.7777777777777778,
                            "#fb9f3a"
                          ],
                          [
                            0.8888888888888888,
                            "#fdca26"
                          ],
                          [
                            1,
                            "#f0f921"
                          ]
                        ],
                        "type": "contour"
                      }
                    ],
                    "contourcarpet": [
                      {
                        "colorbar": {
                          "outlinewidth": 0,
                          "ticks": ""
                        },
                        "type": "contourcarpet"
                      }
                    ],
                    "heatmap": [
                      {
                        "colorbar": {
                          "outlinewidth": 0,
                          "ticks": ""
                        },
                        "colorscale": [
                          [
                            0,
                            "#0d0887"
                          ],
                          [
                            0.1111111111111111,
                            "#46039f"
                          ],
                          [
                            0.2222222222222222,
                            "#7201a8"
                          ],
                          [
                            0.3333333333333333,
                            "#9c179e"
                          ],
                          [
                            0.4444444444444444,
                            "#bd3786"
                          ],
                          [
                            0.5555555555555556,
                            "#d8576b"
                          ],
                          [
                            0.6666666666666666,
                            "#ed7953"
                          ],
                          [
                            0.7777777777777778,
                            "#fb9f3a"
                          ],
                          [
                            0.8888888888888888,
                            "#fdca26"
                          ],
                          [
                            1,
                            "#f0f921"
                          ]
                        ],
                        "type": "heatmap"
                      }
                    ],
                    "heatmapgl": [
                      {
                        "colorbar": {
                          "outlinewidth": 0,
                          "ticks": ""
                        },
                        "colorscale": [
                          [
                            0,
                            "#0d0887"
                          ],
                          [
                            0.1111111111111111,
                            "#46039f"
                          ],
                          [
                            0.2222222222222222,
                            "#7201a8"
                          ],
                          [
                            0.3333333333333333,
                            "#9c179e"
                          ],
                          [
                            0.4444444444444444,
                            "#bd3786"
                          ],
                          [
                            0.5555555555555556,
                            "#d8576b"
                          ],
                          [
                            0.6666666666666666,
                            "#ed7953"
                          ],
                          [
                            0.7777777777777778,
                            "#fb9f3a"
                          ],
                          [
                            0.8888888888888888,
                            "#fdca26"
                          ],
                          [
                            1,
                            "#f0f921"
                          ]
                        ],
                        "type": "heatmapgl"
                      }
                    ],
                    "histogram": [
                      {
                        "marker": {
                          "pattern": {
                            "fillmode": "overlay",
                            "size": 10,
                            "solidity": 0.2
                          }
                        },
                        "type": "histogram"
                      }
                    ],
                    "histogram2d": [
                      {
                        "colorbar": {
                          "outlinewidth": 0,
                          "ticks": ""
                        },
                        "colorscale": [
                          [
                            0,
                            "#0d0887"
                          ],
                          [
                            0.1111111111111111,
                            "#46039f"
                          ],
                          [
                            0.2222222222222222,
                            "#7201a8"
                          ],
                          [
                            0.3333333333333333,
                            "#9c179e"
                          ],
                          [
                            0.4444444444444444,
                            "#bd3786"
                          ],
                          [
                            0.5555555555555556,
                            "#d8576b"
                          ],
                          [
                            0.6666666666666666,
                            "#ed7953"
                          ],
                          [
                            0.7777777777777778,
                            "#fb9f3a"
                          ],
                          [
                            0.8888888888888888,
                            "#fdca26"
                          ],
                          [
                            1,
                            "#f0f921"
                          ]
                        ],
                        "type": "histogram2d"
                      }
                    ],
                    "histogram2dcontour": [
                      {
                        "colorbar": {
                          "outlinewidth": 0,
                          "ticks": ""
                        },
                        "colorscale": [
                          [
                            0,
                            "#0d0887"
                          ],
                          [
                            0.1111111111111111,
                            "#46039f"
                          ],
                          [
                            0.2222222222222222,
                            "#7201a8"
                          ],
                          [
                            0.3333333333333333,
                            "#9c179e"
                          ],
                          [
                            0.4444444444444444,
                            "#bd3786"
                          ],
                          [
                            0.5555555555555556,
                            "#d8576b"
                          ],
                          [
                            0.6666666666666666,
                            "#ed7953"
                          ],
                          [
                            0.7777777777777778,
                            "#fb9f3a"
                          ],
                          [
                            0.8888888888888888,
                            "#fdca26"
                          ],
                          [
                            1,
                            "#f0f921"
                          ]
                        ],
                        "type": "histogram2dcontour"
                      }
                    ],
                    "mesh3d": [
                      {
                        "colorbar": {
                          "outlinewidth": 0,
                          "ticks": ""
                        },
                        "type": "mesh3d"
                      }
                    ],
                    "parcoords": [
                      {
                        "line": {
                          "colorbar": {
                            "outlinewidth": 0,
                            "ticks": ""
                          }
                        },
                        "type": "parcoords"
                      }
                    ],
                    "pie": [
                      {
                        "automargin": true,
                        "type": "pie"
                      }
                    ],
                    "scatter": [
                      {
                        "fillpattern": {
                          "fillmode": "overlay",
                          "size": 10,
                          "solidity": 0.2
                        },
                        "type": "scatter"
                      }
                    ],
                    "scatter3d": [
                      {
                        "line": {
                          "colorbar": {
                            "outlinewidth": 0,
                            "ticks": ""
                          }
                        },
                        "marker": {
                          "colorbar": {
                            "outlinewidth": 0,
                            "ticks": ""
                          }
                        },
                        "type": "scatter3d"
                      }
                    ],
                    "scattercarpet": [
                      {
                        "marker": {
                          "colorbar": {
                            "outlinewidth": 0,
                            "ticks": ""
                          }
                        },
                        "type": "scattercarpet"
                      }
                    ],
                    "scattergeo": [
                      {
                        "marker": {
                          "colorbar": {
                            "outlinewidth": 0,
                            "ticks": ""
                          }
                        },
                        "type": "scattergeo"
                      }
                    ],
                    "scattergl": [
                      {
                        "marker": {
                          "colorbar": {
                            "outlinewidth": 0,
                            "ticks": ""
                          }
                        },
                        "type": "scattergl"
                      }
                    ],
                    "scattermapbox": [
                      {
                        "marker": {
                          "colorbar": {
                            "outlinewidth": 0,
                            "ticks": ""
                          }
                        },
                        "type": "scattermapbox"
                      }
                    ],
                    "scatterpolar": [
                      {
                        "marker": {
                          "colorbar": {
                            "outlinewidth": 0,
                            "ticks": ""
                          }
                        },
                        "type": "scatterpolar"
                      }
                    ],
                    "scatterpolargl": [
                      {
                        "marker": {
                          "colorbar": {
                            "outlinewidth": 0,
                            "ticks": ""
                          }
                        },
                        "type": "scatterpolargl"
                      }
                    ],
                    "scatterternary": [
                      {
                        "marker": {
                          "colorbar": {
                            "outlinewidth": 0,
                            "ticks": ""
                          }
                        },
                        "type": "scatterternary"
                      }
                    ],
                    "surface": [
                      {
                        "colorbar": {
                          "outlinewidth": 0,
                          "ticks": ""
                        },
                        "colorscale": [
                          [
                            0,
                            "#0d0887"
                          ],
                          [
                            0.1111111111111111,
                            "#46039f"
                          ],
                          [
                            0.2222222222222222,
                            "#7201a8"
                          ],
                          [
                            0.3333333333333333,
                            "#9c179e"
                          ],
                          [
                            0.4444444444444444,
                            "#bd3786"
                          ],
                          [
                            0.5555555555555556,
                            "#d8576b"
                          ],
                          [
                            0.6666666666666666,
                            "#ed7953"
                          ],
                          [
                            0.7777777777777778,
                            "#fb9f3a"
                          ],
                          [
                            0.8888888888888888,
                            "#fdca26"
                          ],
                          [
                            1,
                            "#f0f921"
                          ]
                        ],
                        "type": "surface"
                      }
                    ],
                    "table": [
                      {
                        "cells": {
                          "fill": {
                            "color": "#EBF0F8"
                          },
                          "line": {
                            "color": "white"
                          }
                        },
                        "header": {
                          "fill": {
                            "color": "#C8D4E3"
                          },
                          "line": {
                            "color": "white"
                          }
                        },
                        "type": "table"
                      }
                    ]
                  },
                  "layout": {
                    "annotationdefaults": {
                      "arrowcolor": "#2a3f5f",
                      "arrowhead": 0,
                      "arrowwidth": 1
                    },
                    "autotypenumbers": "strict",
                    "coloraxis": {
                      "colorbar": {
                        "outlinewidth": 0,
                        "ticks": ""
                      }
                    },
                    "colorscale": {
                      "diverging": [
                        [
                          0,
                          "#8e0152"
                        ],
                        [
                          0.1,
                          "#c51b7d"
                        ],
                        [
                          0.2,
                          "#de77ae"
                        ],
                        [
                          0.3,
                          "#f1b6da"
                        ],
                        [
                          0.4,
                          "#fde0ef"
                        ],
                        [
                          0.5,
                          "#f7f7f7"
                        ],
                        [
                          0.6,
                          "#e6f5d0"
                        ],
                        [
                          0.7,
                          "#b8e186"
                        ],
                        [
                          0.8,
                          "#7fbc41"
                        ],
                        [
                          0.9,
                          "#4d9221"
                        ],
                        [
                          1,
                          "#276419"
                        ]
                      ],
                      "sequential": [
                        [
                          0,
                          "#0d0887"
                        ],
                        [
                          0.1111111111111111,
                          "#46039f"
                        ],
                        [
                          0.2222222222222222,
                          "#7201a8"
                        ],
                        [
                          0.3333333333333333,
                          "#9c179e"
                        ],
                        [
                          0.4444444444444444,
                          "#bd3786"
                        ],
                        [
                          0.5555555555555556,
                          "#d8576b"
                        ],
                        [
                          0.6666666666666666,
                          "#ed7953"
                        ],
                        [
                          0.7777777777777778,
                          "#fb9f3a"
                        ],
                        [
                          0.8888888888888888,
                          "#fdca26"
                        ],
                        [
                          1,
                          "#f0f921"
                        ]
                      ],
                      "sequentialminus": [
                        [
                          0,
                          "#0d0887"
                        ],
                        [
                          0.1111111111111111,
                          "#46039f"
                        ],
                        [
                          0.2222222222222222,
                          "#7201a8"
                        ],
                        [
                          0.3333333333333333,
                          "#9c179e"
                        ],
                        [
                          0.4444444444444444,
                          "#bd3786"
                        ],
                        [
                          0.5555555555555556,
                          "#d8576b"
                        ],
                        [
                          0.6666666666666666,
                          "#ed7953"
                        ],
                        [
                          0.7777777777777778,
                          "#fb9f3a"
                        ],
                        [
                          0.8888888888888888,
                          "#fdca26"
                        ],
                        [
                          1,
                          "#f0f921"
                        ]
                      ]
                    },
                    "colorway": [
                      "#636efa",
                      "#EF553B",
                      "#00cc96",
                      "#ab63fa",
                      "#FFA15A",
                      "#19d3f3",
                      "#FF6692",
                      "#B6E880",
                      "#FF97FF",
                      "#FECB52"
                    ],
                    "font": {
                      "color": "#2a3f5f"
                    },
                    "geo": {
                      "bgcolor": "white",
                      "lakecolor": "white",
                      "landcolor": "#E5ECF6",
                      "showlakes": true,
                      "showland": true,
                      "subunitcolor": "white"
                    },
                    "hoverlabel": {
                      "align": "left"
                    },
                    "hovermode": "closest",
                    "mapbox": {
                      "style": "light"
                    },
                    "paper_bgcolor": "white",
                    "plot_bgcolor": "#E5ECF6",
                    "polar": {
                      "angularaxis": {
                        "gridcolor": "white",
                        "linecolor": "white",
                        "ticks": ""
                      },
                      "bgcolor": "#E5ECF6",
                      "radialaxis": {
                        "gridcolor": "white",
                        "linecolor": "white",
                        "ticks": ""
                      }
                    },
                    "scene": {
                      "xaxis": {
                        "backgroundcolor": "#E5ECF6",
                        "gridcolor": "white",
                        "gridwidth": 2,
                        "linecolor": "white",
                        "showbackground": true,
                        "ticks": "",
                        "zerolinecolor": "white"
                      },
                      "yaxis": {
                        "backgroundcolor": "#E5ECF6",
                        "gridcolor": "white",
                        "gridwidth": 2,
                        "linecolor": "white",
                        "showbackground": true,
                        "ticks": "",
                        "zerolinecolor": "white"
                      },
                      "zaxis": {
                        "backgroundcolor": "#E5ECF6",
                        "gridcolor": "white",
                        "gridwidth": 2,
                        "linecolor": "white",
                        "showbackground": true,
                        "ticks": "",
                        "zerolinecolor": "white"
                      }
                    },
                    "shapedefaults": {
                      "line": {
                        "color": "#2a3f5f"
                      }
                    },
                    "ternary": {
                      "aaxis": {
                        "gridcolor": "white",
                        "linecolor": "white",
                        "ticks": ""
                      },
                      "baxis": {
                        "gridcolor": "white",
                        "linecolor": "white",
                        "ticks": ""
                      },
                      "bgcolor": "#E5ECF6",
                      "caxis": {
                        "gridcolor": "white",
                        "linecolor": "white",
                        "ticks": ""
                      }
                    },
                    "title": {
                      "x": 0.05
                    },
                    "xaxis": {
                      "automargin": true,
                      "gridcolor": "white",
                      "linecolor": "white",
                      "ticks": "",
                      "title": {
                        "standoff": 15
                      },
                      "zerolinecolor": "white",
                      "zerolinewidth": 2
                    },
                    "yaxis": {
                      "automargin": true,
                      "gridcolor": "white",
                      "linecolor": "white",
                      "ticks": "",
                      "title": {
                        "standoff": 15
                      },
                      "zerolinecolor": "white",
                      "zerolinewidth": 2
                    }
                  }
                },
                "title": {
                  "text": "Parallel Coordinate Plot"
                }
              }
            }
          },
          "metadata": {},
          "output_type": "display_data"
        }
      ],
      "source": [
        "optuna.visualization.plot_parallel_coordinate(study).show()"
      ]
    },
    {
      "cell_type": "code",
      "execution_count": 11,
      "metadata": {
        "colab": {
          "base_uri": "https://localhost:8080/",
          "height": 562
        },
        "id": "HqhhuvaCrlhY",
        "outputId": "e9ad41f4-c04f-4809-ebba-f98c1a4566bf"
      },
      "outputs": [
        {
          "data": {
            "application/vnd.plotly.v1+json": {
              "config": {
                "plotlyServerURL": "https://plot.ly"
              },
              "data": [
                {
                  "marker": {
                    "color": [
                      0,
                      1,
                      2,
                      3,
                      4,
                      10,
                      12,
                      30,
                      32,
                      34
                    ],
                    "colorbar": {
                      "title": {
                        "text": "Trial"
                      },
                      "x": 1,
                      "xpad": 40
                    },
                    "colorscale": [
                      [
                        0,
                        "rgb(247,251,255)"
                      ],
                      [
                        0.125,
                        "rgb(222,235,247)"
                      ],
                      [
                        0.25,
                        "rgb(198,219,239)"
                      ],
                      [
                        0.375,
                        "rgb(158,202,225)"
                      ],
                      [
                        0.5,
                        "rgb(107,174,214)"
                      ],
                      [
                        0.625,
                        "rgb(66,146,198)"
                      ],
                      [
                        0.75,
                        "rgb(33,113,181)"
                      ],
                      [
                        0.875,
                        "rgb(8,81,156)"
                      ],
                      [
                        1,
                        "rgb(8,48,107)"
                      ]
                    ],
                    "line": {
                      "color": "Grey",
                      "width": 0.5
                    },
                    "showscale": true
                  },
                  "mode": "markers",
                  "name": "Feasible Trial",
                  "showlegend": false,
                  "type": "scatter",
                  "x": [
                    3,
                    3,
                    3,
                    3,
                    4,
                    1,
                    3,
                    4,
                    4,
                    4
                  ],
                  "xaxis": "x",
                  "y": [
                    0.06588386800060736,
                    0.015603425178522624,
                    0.07296751546082594,
                    0.012087901770962414,
                    0.06417988821888775,
                    0.0268422974602163,
                    0.007522873692153562,
                    0.005550445341607247,
                    0.008898299933789797,
                    0.005467187457498229
                  ],
                  "yaxis": "y"
                },
                {
                  "marker": {
                    "color": [
                      0,
                      1,
                      2,
                      3,
                      4,
                      10,
                      12,
                      30,
                      32,
                      34
                    ],
                    "colorbar": {
                      "title": {
                        "text": "Trial"
                      },
                      "x": 1,
                      "xpad": 40
                    },
                    "colorscale": [
                      [
                        0,
                        "rgb(247,251,255)"
                      ],
                      [
                        0.125,
                        "rgb(222,235,247)"
                      ],
                      [
                        0.25,
                        "rgb(198,219,239)"
                      ],
                      [
                        0.375,
                        "rgb(158,202,225)"
                      ],
                      [
                        0.5,
                        "rgb(107,174,214)"
                      ],
                      [
                        0.625,
                        "rgb(66,146,198)"
                      ],
                      [
                        0.75,
                        "rgb(33,113,181)"
                      ],
                      [
                        0.875,
                        "rgb(8,81,156)"
                      ],
                      [
                        1,
                        "rgb(8,48,107)"
                      ]
                    ],
                    "line": {
                      "color": "Grey",
                      "width": 0.5
                    },
                    "showscale": false
                  },
                  "mode": "markers",
                  "name": "Feasible Trial",
                  "showlegend": false,
                  "type": "scatter",
                  "x": [
                    0.14605339362990316,
                    0.17252631894298842,
                    0.11081014873975435,
                    0.1826695458155945,
                    0.15200596701181657,
                    0.19772809212134476,
                    0.17392554729944226,
                    0.14917981821998663,
                    0.17536331880448655,
                    0.14715460987241605
                  ],
                  "xaxis": "x2",
                  "y": [
                    0.06588386800060736,
                    0.015603425178522624,
                    0.07296751546082594,
                    0.012087901770962414,
                    0.06417988821888775,
                    0.0268422974602163,
                    0.007522873692153562,
                    0.005550445341607247,
                    0.008898299933789797,
                    0.005467187457498229
                  ],
                  "yaxis": "y2"
                },
                {
                  "marker": {
                    "color": [
                      0,
                      1,
                      2,
                      3,
                      4,
                      10,
                      12,
                      30,
                      32,
                      34
                    ],
                    "colorbar": {
                      "title": {
                        "text": "Trial"
                      },
                      "x": 1,
                      "xpad": 40
                    },
                    "colorscale": [
                      [
                        0,
                        "rgb(247,251,255)"
                      ],
                      [
                        0.125,
                        "rgb(222,235,247)"
                      ],
                      [
                        0.25,
                        "rgb(198,219,239)"
                      ],
                      [
                        0.375,
                        "rgb(158,202,225)"
                      ],
                      [
                        0.5,
                        "rgb(107,174,214)"
                      ],
                      [
                        0.625,
                        "rgb(66,146,198)"
                      ],
                      [
                        0.75,
                        "rgb(33,113,181)"
                      ],
                      [
                        0.875,
                        "rgb(8,81,156)"
                      ],
                      [
                        1,
                        "rgb(8,48,107)"
                      ]
                    ],
                    "line": {
                      "color": "Grey",
                      "width": 0.5
                    },
                    "showscale": false
                  },
                  "mode": "markers",
                  "name": "Feasible Trial",
                  "showlegend": false,
                  "type": "scatter",
                  "x": [
                    3,
                    1,
                    1,
                    1,
                    3,
                    2,
                    2,
                    4,
                    4,
                    4
                  ],
                  "xaxis": "x3",
                  "y": [
                    0.06588386800060736,
                    0.015603425178522624,
                    0.07296751546082594,
                    0.012087901770962414,
                    0.06417988821888775,
                    0.0268422974602163,
                    0.007522873692153562,
                    0.005550445341607247,
                    0.008898299933789797,
                    0.005467187457498229
                  ],
                  "yaxis": "y3"
                },
                {
                  "marker": {
                    "color": [
                      0,
                      1,
                      2,
                      3,
                      4,
                      10,
                      12,
                      30,
                      32,
                      34
                    ],
                    "colorbar": {
                      "title": {
                        "text": "Trial"
                      },
                      "x": 1,
                      "xpad": 40
                    },
                    "colorscale": [
                      [
                        0,
                        "rgb(247,251,255)"
                      ],
                      [
                        0.125,
                        "rgb(222,235,247)"
                      ],
                      [
                        0.25,
                        "rgb(198,219,239)"
                      ],
                      [
                        0.375,
                        "rgb(158,202,225)"
                      ],
                      [
                        0.5,
                        "rgb(107,174,214)"
                      ],
                      [
                        0.625,
                        "rgb(66,146,198)"
                      ],
                      [
                        0.75,
                        "rgb(33,113,181)"
                      ],
                      [
                        0.875,
                        "rgb(8,81,156)"
                      ],
                      [
                        1,
                        "rgb(8,48,107)"
                      ]
                    ],
                    "line": {
                      "color": "Grey",
                      "width": 0.5
                    },
                    "showscale": false
                  },
                  "mode": "markers",
                  "name": "Feasible Trial",
                  "showlegend": false,
                  "type": "scatter",
                  "x": [
                    525,
                    3677,
                    1444,
                    2295,
                    3582,
                    2746,
                    3211,
                    979,
                    1193,
                    1136
                  ],
                  "xaxis": "x4",
                  "y": [
                    0.06588386800060736,
                    0.015603425178522624,
                    0.07296751546082594,
                    0.012087901770962414,
                    0.06417988821888775,
                    0.0268422974602163,
                    0.007522873692153562,
                    0.005550445341607247,
                    0.008898299933789797,
                    0.005467187457498229
                  ],
                  "yaxis": "y4"
                },
                {
                  "marker": {
                    "color": [
                      0,
                      1,
                      2,
                      3,
                      4,
                      10,
                      12,
                      30,
                      32,
                      34
                    ],
                    "colorbar": {
                      "title": {
                        "text": "Trial"
                      },
                      "x": 1,
                      "xpad": 40
                    },
                    "colorscale": [
                      [
                        0,
                        "rgb(247,251,255)"
                      ],
                      [
                        0.125,
                        "rgb(222,235,247)"
                      ],
                      [
                        0.25,
                        "rgb(198,219,239)"
                      ],
                      [
                        0.375,
                        "rgb(158,202,225)"
                      ],
                      [
                        0.5,
                        "rgb(107,174,214)"
                      ],
                      [
                        0.625,
                        "rgb(66,146,198)"
                      ],
                      [
                        0.75,
                        "rgb(33,113,181)"
                      ],
                      [
                        0.875,
                        "rgb(8,81,156)"
                      ],
                      [
                        1,
                        "rgb(8,48,107)"
                      ]
                    ],
                    "line": {
                      "color": "Grey",
                      "width": 0.5
                    },
                    "showscale": false
                  },
                  "mode": "markers",
                  "name": "Feasible Trial",
                  "showlegend": false,
                  "type": "scatter",
                  "x": [
                    0.0003686222697275397,
                    0.0008056552361821365,
                    0.0003921913759611889,
                    0.0005515216908890337,
                    0.00007626998298288508,
                    0.0009915226854699396,
                    0.0006875934119772456,
                    0.0007401144349459623,
                    0.0005035886035951648,
                    0.0005476147324097177
                  ],
                  "xaxis": "x5",
                  "y": [
                    0.06588386800060736,
                    0.015603425178522624,
                    0.07296751546082594,
                    0.012087901770962414,
                    0.06417988821888775,
                    0.0268422974602163,
                    0.007522873692153562,
                    0.005550445341607247,
                    0.008898299933789797,
                    0.005467187457498229
                  ],
                  "yaxis": "y5"
                },
                {
                  "marker": {
                    "color": [
                      0,
                      1,
                      2,
                      3,
                      4,
                      10,
                      12,
                      30,
                      32,
                      34
                    ],
                    "colorbar": {
                      "title": {
                        "text": "Trial"
                      },
                      "x": 1,
                      "xpad": 40
                    },
                    "colorscale": [
                      [
                        0,
                        "rgb(247,251,255)"
                      ],
                      [
                        0.125,
                        "rgb(222,235,247)"
                      ],
                      [
                        0.25,
                        "rgb(198,219,239)"
                      ],
                      [
                        0.375,
                        "rgb(158,202,225)"
                      ],
                      [
                        0.5,
                        "rgb(107,174,214)"
                      ],
                      [
                        0.625,
                        "rgb(66,146,198)"
                      ],
                      [
                        0.75,
                        "rgb(33,113,181)"
                      ],
                      [
                        0.875,
                        "rgb(8,81,156)"
                      ],
                      [
                        1,
                        "rgb(8,48,107)"
                      ]
                    ],
                    "line": {
                      "color": "Grey",
                      "width": 0.5
                    },
                    "showscale": false
                  },
                  "mode": "markers",
                  "name": "Feasible Trial",
                  "showlegend": false,
                  "type": "scatter",
                  "x": [
                    1,
                    2,
                    2,
                    1,
                    2,
                    1,
                    1,
                    1,
                    1,
                    1
                  ],
                  "xaxis": "x6",
                  "y": [
                    0.06588386800060736,
                    0.015603425178522624,
                    0.07296751546082594,
                    0.012087901770962414,
                    0.06417988821888775,
                    0.0268422974602163,
                    0.007522873692153562,
                    0.005550445341607247,
                    0.008898299933789797,
                    0.005467187457498229
                  ],
                  "yaxis": "y6"
                }
              ],
              "layout": {
                "template": {
                  "data": {
                    "bar": [
                      {
                        "error_x": {
                          "color": "#2a3f5f"
                        },
                        "error_y": {
                          "color": "#2a3f5f"
                        },
                        "marker": {
                          "line": {
                            "color": "#E5ECF6",
                            "width": 0.5
                          },
                          "pattern": {
                            "fillmode": "overlay",
                            "size": 10,
                            "solidity": 0.2
                          }
                        },
                        "type": "bar"
                      }
                    ],
                    "barpolar": [
                      {
                        "marker": {
                          "line": {
                            "color": "#E5ECF6",
                            "width": 0.5
                          },
                          "pattern": {
                            "fillmode": "overlay",
                            "size": 10,
                            "solidity": 0.2
                          }
                        },
                        "type": "barpolar"
                      }
                    ],
                    "carpet": [
                      {
                        "aaxis": {
                          "endlinecolor": "#2a3f5f",
                          "gridcolor": "white",
                          "linecolor": "white",
                          "minorgridcolor": "white",
                          "startlinecolor": "#2a3f5f"
                        },
                        "baxis": {
                          "endlinecolor": "#2a3f5f",
                          "gridcolor": "white",
                          "linecolor": "white",
                          "minorgridcolor": "white",
                          "startlinecolor": "#2a3f5f"
                        },
                        "type": "carpet"
                      }
                    ],
                    "choropleth": [
                      {
                        "colorbar": {
                          "outlinewidth": 0,
                          "ticks": ""
                        },
                        "type": "choropleth"
                      }
                    ],
                    "contour": [
                      {
                        "colorbar": {
                          "outlinewidth": 0,
                          "ticks": ""
                        },
                        "colorscale": [
                          [
                            0,
                            "#0d0887"
                          ],
                          [
                            0.1111111111111111,
                            "#46039f"
                          ],
                          [
                            0.2222222222222222,
                            "#7201a8"
                          ],
                          [
                            0.3333333333333333,
                            "#9c179e"
                          ],
                          [
                            0.4444444444444444,
                            "#bd3786"
                          ],
                          [
                            0.5555555555555556,
                            "#d8576b"
                          ],
                          [
                            0.6666666666666666,
                            "#ed7953"
                          ],
                          [
                            0.7777777777777778,
                            "#fb9f3a"
                          ],
                          [
                            0.8888888888888888,
                            "#fdca26"
                          ],
                          [
                            1,
                            "#f0f921"
                          ]
                        ],
                        "type": "contour"
                      }
                    ],
                    "contourcarpet": [
                      {
                        "colorbar": {
                          "outlinewidth": 0,
                          "ticks": ""
                        },
                        "type": "contourcarpet"
                      }
                    ],
                    "heatmap": [
                      {
                        "colorbar": {
                          "outlinewidth": 0,
                          "ticks": ""
                        },
                        "colorscale": [
                          [
                            0,
                            "#0d0887"
                          ],
                          [
                            0.1111111111111111,
                            "#46039f"
                          ],
                          [
                            0.2222222222222222,
                            "#7201a8"
                          ],
                          [
                            0.3333333333333333,
                            "#9c179e"
                          ],
                          [
                            0.4444444444444444,
                            "#bd3786"
                          ],
                          [
                            0.5555555555555556,
                            "#d8576b"
                          ],
                          [
                            0.6666666666666666,
                            "#ed7953"
                          ],
                          [
                            0.7777777777777778,
                            "#fb9f3a"
                          ],
                          [
                            0.8888888888888888,
                            "#fdca26"
                          ],
                          [
                            1,
                            "#f0f921"
                          ]
                        ],
                        "type": "heatmap"
                      }
                    ],
                    "heatmapgl": [
                      {
                        "colorbar": {
                          "outlinewidth": 0,
                          "ticks": ""
                        },
                        "colorscale": [
                          [
                            0,
                            "#0d0887"
                          ],
                          [
                            0.1111111111111111,
                            "#46039f"
                          ],
                          [
                            0.2222222222222222,
                            "#7201a8"
                          ],
                          [
                            0.3333333333333333,
                            "#9c179e"
                          ],
                          [
                            0.4444444444444444,
                            "#bd3786"
                          ],
                          [
                            0.5555555555555556,
                            "#d8576b"
                          ],
                          [
                            0.6666666666666666,
                            "#ed7953"
                          ],
                          [
                            0.7777777777777778,
                            "#fb9f3a"
                          ],
                          [
                            0.8888888888888888,
                            "#fdca26"
                          ],
                          [
                            1,
                            "#f0f921"
                          ]
                        ],
                        "type": "heatmapgl"
                      }
                    ],
                    "histogram": [
                      {
                        "marker": {
                          "pattern": {
                            "fillmode": "overlay",
                            "size": 10,
                            "solidity": 0.2
                          }
                        },
                        "type": "histogram"
                      }
                    ],
                    "histogram2d": [
                      {
                        "colorbar": {
                          "outlinewidth": 0,
                          "ticks": ""
                        },
                        "colorscale": [
                          [
                            0,
                            "#0d0887"
                          ],
                          [
                            0.1111111111111111,
                            "#46039f"
                          ],
                          [
                            0.2222222222222222,
                            "#7201a8"
                          ],
                          [
                            0.3333333333333333,
                            "#9c179e"
                          ],
                          [
                            0.4444444444444444,
                            "#bd3786"
                          ],
                          [
                            0.5555555555555556,
                            "#d8576b"
                          ],
                          [
                            0.6666666666666666,
                            "#ed7953"
                          ],
                          [
                            0.7777777777777778,
                            "#fb9f3a"
                          ],
                          [
                            0.8888888888888888,
                            "#fdca26"
                          ],
                          [
                            1,
                            "#f0f921"
                          ]
                        ],
                        "type": "histogram2d"
                      }
                    ],
                    "histogram2dcontour": [
                      {
                        "colorbar": {
                          "outlinewidth": 0,
                          "ticks": ""
                        },
                        "colorscale": [
                          [
                            0,
                            "#0d0887"
                          ],
                          [
                            0.1111111111111111,
                            "#46039f"
                          ],
                          [
                            0.2222222222222222,
                            "#7201a8"
                          ],
                          [
                            0.3333333333333333,
                            "#9c179e"
                          ],
                          [
                            0.4444444444444444,
                            "#bd3786"
                          ],
                          [
                            0.5555555555555556,
                            "#d8576b"
                          ],
                          [
                            0.6666666666666666,
                            "#ed7953"
                          ],
                          [
                            0.7777777777777778,
                            "#fb9f3a"
                          ],
                          [
                            0.8888888888888888,
                            "#fdca26"
                          ],
                          [
                            1,
                            "#f0f921"
                          ]
                        ],
                        "type": "histogram2dcontour"
                      }
                    ],
                    "mesh3d": [
                      {
                        "colorbar": {
                          "outlinewidth": 0,
                          "ticks": ""
                        },
                        "type": "mesh3d"
                      }
                    ],
                    "parcoords": [
                      {
                        "line": {
                          "colorbar": {
                            "outlinewidth": 0,
                            "ticks": ""
                          }
                        },
                        "type": "parcoords"
                      }
                    ],
                    "pie": [
                      {
                        "automargin": true,
                        "type": "pie"
                      }
                    ],
                    "scatter": [
                      {
                        "fillpattern": {
                          "fillmode": "overlay",
                          "size": 10,
                          "solidity": 0.2
                        },
                        "type": "scatter"
                      }
                    ],
                    "scatter3d": [
                      {
                        "line": {
                          "colorbar": {
                            "outlinewidth": 0,
                            "ticks": ""
                          }
                        },
                        "marker": {
                          "colorbar": {
                            "outlinewidth": 0,
                            "ticks": ""
                          }
                        },
                        "type": "scatter3d"
                      }
                    ],
                    "scattercarpet": [
                      {
                        "marker": {
                          "colorbar": {
                            "outlinewidth": 0,
                            "ticks": ""
                          }
                        },
                        "type": "scattercarpet"
                      }
                    ],
                    "scattergeo": [
                      {
                        "marker": {
                          "colorbar": {
                            "outlinewidth": 0,
                            "ticks": ""
                          }
                        },
                        "type": "scattergeo"
                      }
                    ],
                    "scattergl": [
                      {
                        "marker": {
                          "colorbar": {
                            "outlinewidth": 0,
                            "ticks": ""
                          }
                        },
                        "type": "scattergl"
                      }
                    ],
                    "scattermapbox": [
                      {
                        "marker": {
                          "colorbar": {
                            "outlinewidth": 0,
                            "ticks": ""
                          }
                        },
                        "type": "scattermapbox"
                      }
                    ],
                    "scatterpolar": [
                      {
                        "marker": {
                          "colorbar": {
                            "outlinewidth": 0,
                            "ticks": ""
                          }
                        },
                        "type": "scatterpolar"
                      }
                    ],
                    "scatterpolargl": [
                      {
                        "marker": {
                          "colorbar": {
                            "outlinewidth": 0,
                            "ticks": ""
                          }
                        },
                        "type": "scatterpolargl"
                      }
                    ],
                    "scatterternary": [
                      {
                        "marker": {
                          "colorbar": {
                            "outlinewidth": 0,
                            "ticks": ""
                          }
                        },
                        "type": "scatterternary"
                      }
                    ],
                    "surface": [
                      {
                        "colorbar": {
                          "outlinewidth": 0,
                          "ticks": ""
                        },
                        "colorscale": [
                          [
                            0,
                            "#0d0887"
                          ],
                          [
                            0.1111111111111111,
                            "#46039f"
                          ],
                          [
                            0.2222222222222222,
                            "#7201a8"
                          ],
                          [
                            0.3333333333333333,
                            "#9c179e"
                          ],
                          [
                            0.4444444444444444,
                            "#bd3786"
                          ],
                          [
                            0.5555555555555556,
                            "#d8576b"
                          ],
                          [
                            0.6666666666666666,
                            "#ed7953"
                          ],
                          [
                            0.7777777777777778,
                            "#fb9f3a"
                          ],
                          [
                            0.8888888888888888,
                            "#fdca26"
                          ],
                          [
                            1,
                            "#f0f921"
                          ]
                        ],
                        "type": "surface"
                      }
                    ],
                    "table": [
                      {
                        "cells": {
                          "fill": {
                            "color": "#EBF0F8"
                          },
                          "line": {
                            "color": "white"
                          }
                        },
                        "header": {
                          "fill": {
                            "color": "#C8D4E3"
                          },
                          "line": {
                            "color": "white"
                          }
                        },
                        "type": "table"
                      }
                    ]
                  },
                  "layout": {
                    "annotationdefaults": {
                      "arrowcolor": "#2a3f5f",
                      "arrowhead": 0,
                      "arrowwidth": 1
                    },
                    "autotypenumbers": "strict",
                    "coloraxis": {
                      "colorbar": {
                        "outlinewidth": 0,
                        "ticks": ""
                      }
                    },
                    "colorscale": {
                      "diverging": [
                        [
                          0,
                          "#8e0152"
                        ],
                        [
                          0.1,
                          "#c51b7d"
                        ],
                        [
                          0.2,
                          "#de77ae"
                        ],
                        [
                          0.3,
                          "#f1b6da"
                        ],
                        [
                          0.4,
                          "#fde0ef"
                        ],
                        [
                          0.5,
                          "#f7f7f7"
                        ],
                        [
                          0.6,
                          "#e6f5d0"
                        ],
                        [
                          0.7,
                          "#b8e186"
                        ],
                        [
                          0.8,
                          "#7fbc41"
                        ],
                        [
                          0.9,
                          "#4d9221"
                        ],
                        [
                          1,
                          "#276419"
                        ]
                      ],
                      "sequential": [
                        [
                          0,
                          "#0d0887"
                        ],
                        [
                          0.1111111111111111,
                          "#46039f"
                        ],
                        [
                          0.2222222222222222,
                          "#7201a8"
                        ],
                        [
                          0.3333333333333333,
                          "#9c179e"
                        ],
                        [
                          0.4444444444444444,
                          "#bd3786"
                        ],
                        [
                          0.5555555555555556,
                          "#d8576b"
                        ],
                        [
                          0.6666666666666666,
                          "#ed7953"
                        ],
                        [
                          0.7777777777777778,
                          "#fb9f3a"
                        ],
                        [
                          0.8888888888888888,
                          "#fdca26"
                        ],
                        [
                          1,
                          "#f0f921"
                        ]
                      ],
                      "sequentialminus": [
                        [
                          0,
                          "#0d0887"
                        ],
                        [
                          0.1111111111111111,
                          "#46039f"
                        ],
                        [
                          0.2222222222222222,
                          "#7201a8"
                        ],
                        [
                          0.3333333333333333,
                          "#9c179e"
                        ],
                        [
                          0.4444444444444444,
                          "#bd3786"
                        ],
                        [
                          0.5555555555555556,
                          "#d8576b"
                        ],
                        [
                          0.6666666666666666,
                          "#ed7953"
                        ],
                        [
                          0.7777777777777778,
                          "#fb9f3a"
                        ],
                        [
                          0.8888888888888888,
                          "#fdca26"
                        ],
                        [
                          1,
                          "#f0f921"
                        ]
                      ]
                    },
                    "colorway": [
                      "#636efa",
                      "#EF553B",
                      "#00cc96",
                      "#ab63fa",
                      "#FFA15A",
                      "#19d3f3",
                      "#FF6692",
                      "#B6E880",
                      "#FF97FF",
                      "#FECB52"
                    ],
                    "font": {
                      "color": "#2a3f5f"
                    },
                    "geo": {
                      "bgcolor": "white",
                      "lakecolor": "white",
                      "landcolor": "#E5ECF6",
                      "showlakes": true,
                      "showland": true,
                      "subunitcolor": "white"
                    },
                    "hoverlabel": {
                      "align": "left"
                    },
                    "hovermode": "closest",
                    "mapbox": {
                      "style": "light"
                    },
                    "paper_bgcolor": "white",
                    "plot_bgcolor": "#E5ECF6",
                    "polar": {
                      "angularaxis": {
                        "gridcolor": "white",
                        "linecolor": "white",
                        "ticks": ""
                      },
                      "bgcolor": "#E5ECF6",
                      "radialaxis": {
                        "gridcolor": "white",
                        "linecolor": "white",
                        "ticks": ""
                      }
                    },
                    "scene": {
                      "xaxis": {
                        "backgroundcolor": "#E5ECF6",
                        "gridcolor": "white",
                        "gridwidth": 2,
                        "linecolor": "white",
                        "showbackground": true,
                        "ticks": "",
                        "zerolinecolor": "white"
                      },
                      "yaxis": {
                        "backgroundcolor": "#E5ECF6",
                        "gridcolor": "white",
                        "gridwidth": 2,
                        "linecolor": "white",
                        "showbackground": true,
                        "ticks": "",
                        "zerolinecolor": "white"
                      },
                      "zaxis": {
                        "backgroundcolor": "#E5ECF6",
                        "gridcolor": "white",
                        "gridwidth": 2,
                        "linecolor": "white",
                        "showbackground": true,
                        "ticks": "",
                        "zerolinecolor": "white"
                      }
                    },
                    "shapedefaults": {
                      "line": {
                        "color": "#2a3f5f"
                      }
                    },
                    "ternary": {
                      "aaxis": {
                        "gridcolor": "white",
                        "linecolor": "white",
                        "ticks": ""
                      },
                      "baxis": {
                        "gridcolor": "white",
                        "linecolor": "white",
                        "ticks": ""
                      },
                      "bgcolor": "#E5ECF6",
                      "caxis": {
                        "gridcolor": "white",
                        "linecolor": "white",
                        "ticks": ""
                      }
                    },
                    "title": {
                      "x": 0.05
                    },
                    "xaxis": {
                      "automargin": true,
                      "gridcolor": "white",
                      "linecolor": "white",
                      "ticks": "",
                      "title": {
                        "standoff": 15
                      },
                      "zerolinecolor": "white",
                      "zerolinewidth": 2
                    },
                    "yaxis": {
                      "automargin": true,
                      "gridcolor": "white",
                      "linecolor": "white",
                      "ticks": "",
                      "title": {
                        "standoff": 15
                      },
                      "zerolinecolor": "white",
                      "zerolinewidth": 2
                    }
                  }
                },
                "title": {
                  "text": "Slice Plot"
                },
                "width": 1800,
                "xaxis": {
                  "anchor": "y",
                  "domain": [
                    0,
                    0.1388888888888889
                  ],
                  "title": {
                    "text": "d_num_layer"
                  }
                },
                "xaxis2": {
                  "anchor": "y2",
                  "domain": [
                    0.17222222222222222,
                    0.3111111111111111
                  ],
                  "title": {
                    "text": "dropout"
                  }
                },
                "xaxis3": {
                  "anchor": "y3",
                  "domain": [
                    0.34444444444444444,
                    0.48333333333333334
                  ],
                  "title": {
                    "text": "e_num_layers"
                  }
                },
                "xaxis4": {
                  "anchor": "y4",
                  "domain": [
                    0.5166666666666667,
                    0.6555555555555557
                  ],
                  "title": {
                    "text": "hidden_size"
                  }
                },
                "xaxis5": {
                  "anchor": "y5",
                  "domain": [
                    0.6888888888888889,
                    0.8277777777777777
                  ],
                  "title": {
                    "text": "lr"
                  }
                },
                "xaxis6": {
                  "anchor": "y6",
                  "domain": [
                    0.861111111111111,
                    1
                  ],
                  "title": {
                    "text": "num_heads"
                  }
                },
                "yaxis": {
                  "anchor": "x",
                  "domain": [
                    0,
                    1
                  ],
                  "title": {
                    "text": "Objective Value"
                  }
                },
                "yaxis2": {
                  "anchor": "x2",
                  "domain": [
                    0,
                    1
                  ],
                  "matches": "y",
                  "showticklabels": false
                },
                "yaxis3": {
                  "anchor": "x3",
                  "domain": [
                    0,
                    1
                  ],
                  "matches": "y",
                  "showticklabels": false
                },
                "yaxis4": {
                  "anchor": "x4",
                  "domain": [
                    0,
                    1
                  ],
                  "matches": "y",
                  "showticklabels": false
                },
                "yaxis5": {
                  "anchor": "x5",
                  "domain": [
                    0,
                    1
                  ],
                  "matches": "y",
                  "showticklabels": false
                },
                "yaxis6": {
                  "anchor": "x6",
                  "domain": [
                    0,
                    1
                  ],
                  "matches": "y",
                  "showticklabels": false
                }
              }
            }
          },
          "metadata": {},
          "output_type": "display_data"
        }
      ],
      "source": [
        "optuna.visualization.plot_slice(study).show()"
      ]
    },
    {
      "cell_type": "markdown",
      "metadata": {
        "id": "SQvhht6XrlhY"
      },
      "source": [
        "### Training the Transformer Model\n",
        "\n",
        "Training the Transformer model involves optimizing the Mean Squared Error (MSE) function between the predicted State of Charge (SoC) and the ground truth SoC values. The MSE function is defined as:\n",
        "\n",
        "$$\n",
        "\\text{MSE} = \\frac{1}{n} \\sum_{i=1}^{n} (y_i - \\hat{y}_i)^2\n",
        "$$\n",
        "\n",
        "Where:\n",
        "- \\( n \\) is the number of data points.\n",
        "- \\( y_i \\) is the actual value.\n",
        "- $( \\hat{y}_i )$ is the predicted value.\n",
        "\n",
        "The goal is to minimize this error function during training. We use the Adam optimizer to update the model's parameters and employ early stopping to prevent overfitting. Additionally, TensorBoard is used for monitoring the training process, allowing us to visualize metrics such as training and validation loss over time.\n",
        "\n",
        "The training process involves the following steps:\n",
        "1. **Forward Pass**: Compute the predicted SoC values using the Transformer model.\n",
        "2. **Loss Calculation**: Calculate the MSE loss between the predicted and actual SoC values.\n",
        "3. **Backward Pass**: Compute the gradients of the loss with respect to the model parameters.\n",
        "4. **Parameter Update**: Update the model parameters using the optimizer.\n",
        "5. **Validation**: Evaluate the model on the validation set to monitor its performance and apply early stopping if necessary.\n",
        "\n",
        "By iteratively performing these steps, the model learns to accurately predict the SoC values, minimizing the MSE loss.\n"
      ]
    },
    {
      "cell_type": "markdown",
      "metadata": {},
      "source": [
        "First, we will extract the best hyperparameters from the study object and use them to train the model."
      ]
    },
    {
      "cell_type": "code",
      "execution_count": 12,
      "metadata": {
        "colab": {
          "base_uri": "https://localhost:8080/"
        },
        "id": "cwxYgYEgrlhY",
        "outputId": "0bd53bb4-fe8e-41a9-b578-8ca4ab008aa9"
      },
      "outputs": [
        {
          "name": "stdout",
          "output_type": "stream",
          "text": [
            "{'hidden_size': 1136, 'e_num_layers': 4, 'd_num_layer': 4, 'num_heads': 1, 'dropout': 0.14715460987241605, 'lr': 0.0005476147324097177}\n"
          ]
        }
      ],
      "source": [
        "# load the best hyperparameters\n",
        "with open('best_params.pkl', 'rb') as f:\n",
        "    best_params = pickle.load(f)\n",
        "\n",
        "print(best_params)"
      ]
    },
    {
      "cell_type": "markdown",
      "metadata": {},
      "source": [
        "Early stopping is a technique used to halt the training of a model if the validation loss does not improve for a specified duration. This suggests that the model has likely reached its minimum performance and further training may not yield better results."
      ]
    },
    {
      "cell_type": "code",
      "execution_count": 13,
      "metadata": {
        "id": "dunlyu4GrlhZ"
      },
      "outputs": [],
      "source": [
        "import numpy as np\n",
        "\n",
        "class EarlyStopping:\n",
        "    def __init__(self, patience:int=7, delta:int=0):\n",
        "        \"\"\"Early stops the training if validation loss doesn't improve after a given patience.\n",
        "\n",
        "        Parameters:\n",
        "            patience (int): How long to wait after last time validation loss improved.\n",
        "                            Default: 7\n",
        "            delta (float): Minimum change in the monitored quantity to qualify as an improvement.\n",
        "                            Default: 0\n",
        "        \"\"\"\n",
        "        self.patience = patience\n",
        "        self.delta = delta\n",
        "        self.counter = 0\n",
        "        self.best_score = None\n",
        "        self.early_stop = False\n",
        "        self.val_loss_min = np.Inf\n",
        "\n",
        "    def __call__(self, val_loss:float, model:nn.Module):\n",
        "        '''\n",
        "        This function is used to call the early stopping\n",
        "\n",
        "        Parameters\n",
        "        ----------\n",
        "        val_loss: float\n",
        "            The validation loss\n",
        "        model: nn.Module\n",
        "            The model\n",
        "        '''\n",
        "        score = -val_loss\n",
        "\n",
        "        if self.best_score is None:\n",
        "            self.best_score = score\n",
        "            self._saveCheckpoint(val_loss, model)\n",
        "        elif score < self.best_score + self.delta:\n",
        "            self.counter += 1\n",
        "            print(f'EarlyStopping counter: {self.counter} out of {self.patience}')\n",
        "            if self.counter >= self.patience:\n",
        "                self.early_stop = True\n",
        "        else:\n",
        "            self.best_score = score\n",
        "            self._saveCheckpoint(val_loss, model)\n",
        "            self.counter = 0\n",
        "\n",
        "    def _saveCheckpoint(self, val_loss:float, model:nn.Module):\n",
        "        '''Saves model when validation loss decrease.\n",
        "        \n",
        "        Parameters\n",
        "        ----------\n",
        "        val_loss: float\n",
        "            The validation loss\n",
        "        model: nn.Module\n",
        "            The model\n",
        "        '''\n",
        "        print(f'Validation loss decreased ({self.val_loss_min:.6f} --> {val_loss:.6f}).  Saving model ...')\n",
        "        torch.save(model.state_dict(), 'checkpoint.pt')\n",
        "        self.val_loss_min = val_loss"
      ]
    },
    {
      "cell_type": "markdown",
      "metadata": {},
      "source": [
        "\n",
        "TensorBoard is a powerful visualization tool that helps in monitoring and understanding the training process of machine learning models. Here are some reasons why we are using TensorBoard:\n",
        "\n",
        "1. **Visualization of Metrics**: TensorBoard allows us to visualize various metrics such as training and validation loss, accuracy, and other custom metrics over time. This helps in understanding how well the model is performing during training.\n",
        "\n",
        "2. **Tracking Experimentation**: With TensorBoard, we can keep track of different experiments and compare their performance. This is particularly useful when tuning hyperparameters or trying different model architectures.\n",
        "\n",
        "3. **Debugging**: By visualizing the training process, TensorBoard helps in identifying issues such as overfitting, underfitting, or vanishing/exploding gradients. This makes it easier to debug and improve the model.\n",
        "\n",
        "4. **Scalability**: TensorBoard can handle large-scale experiments and provides a scalable way to monitor multiple runs simultaneously.\n",
        "\n",
        "5. **Ease of Use**: TensorBoard integrates seamlessly with PyTorch and other popular machine learning frameworks, making it easy to set up and use.\n",
        "\n",
        "\n"
      ]
    },
    {
      "cell_type": "code",
      "execution_count": 14,
      "metadata": {
        "id": "DwD9dXVOrlhZ"
      },
      "outputs": [],
      "source": [
        "# training function with tensorboard logging\n",
        "from torch.utils.tensorboard import SummaryWriter\n",
        "\n",
        "# scheduler\n",
        "from torch.optim.lr_scheduler import ExponentialLR\n",
        "\n",
        "def train_model(\n",
        "    model:nn.Module,\n",
        "    trainloader:torch.utils.data.DataLoader,\n",
        "    valloader:torch.utils.data.DataLoader, \n",
        "    optimizer:torch.optim.Optimizer, \n",
        "    num_epochs:int\n",
        "    )->None:\n",
        "    '''\n",
        "    This function is used to train the model\n",
        "\n",
        "    Parameters\n",
        "    ----------\n",
        "    model: nn.Module\n",
        "        The model\n",
        "    trainloader: torch.utils.data.DataLoader\n",
        "        The training data loader\n",
        "    valloader: torch.utils.data.DataLoader\n",
        "        The validation data loader\n",
        "    optimizer: torch.optim.Optimizer\n",
        "        The optimizer\n",
        "    num_epochs: int\n",
        "        The number of epochs\n",
        "    '''\n",
        "    early_stopping = EarlyStopping(patience=10) # early stopping\n",
        "    writer = SummaryWriter('runs')  # TensorBoard writer\n",
        "    sched = ExponentialLR(optimizer, gamma=0.9)\n",
        "    device = torch.device('cuda' if torch.cuda.is_available() else 'cpu')\n",
        "    print(f'Using {device}')\n",
        "    model.to(device)\n",
        "\n",
        "    for epoch in range(num_epochs):\n",
        "        # training\n",
        "        train_loss = 0\n",
        "        model.train()\n",
        "        for i, (volt, current, dec_volt, dec_current, target) in enumerate(trainloader):\n",
        "            loss = model.training_step(current, volt, dec_current, dec_volt, target, optimizer)\n",
        "            train_loss += loss\n",
        "\n",
        "        # validation\n",
        "        model.eval()\n",
        "        val_loss = 0\n",
        "        for i, (volt, current, dec_volt, dec_current, target) in enumerate(valloader):\n",
        "            loss = model.validation_step(current, volt, dec_current, dec_volt, target)\n",
        "            val_loss += loss\n",
        "\n",
        "        train_loss /= len(trainloader)\n",
        "        val_loss /= len(valloader)\n",
        "\n",
        "        print(f'Epoch: {epoch}, Train Loss: {train_loss}, Val Loss: {val_loss}')\n",
        "        early_stopping(val_loss, model)\n",
        "\n",
        "        # log into tensorboard\n",
        "        writer.add_scalar('Loss/train', train_loss, epoch)\n",
        "        writer.add_scalar('Loss/val', val_loss, epoch)\n",
        "\n",
        "        if early_stopping.early_stop:\n",
        "            print('Early stopping')\n",
        "            break\n",
        "\n",
        "    writer.close()"
      ]
    },
    {
      "cell_type": "code",
      "execution_count": 17,
      "metadata": {
        "colab": {
          "base_uri": "https://localhost:8080/"
        },
        "id": "-NkIsOAOrlhZ",
        "outputId": "a2ecd12b-cd13-42d2-b09d-926d9d509a83"
      },
      "outputs": [],
      "source": [
        "from IPython.display import clear_output\n",
        "\n",
        "from torch.optim import Adam\n",
        "\n",
        "model = Transformer(\n",
        "    input_size=2,\n",
        "    embed_size=64,\n",
        "    hidden_size=study.best_params['hidden_size'],\n",
        "    e_num_layers=study.best_params['e_num_layers'],\n",
        "    d_num_layer=study.best_params['d_num_layer'],\n",
        "    num_heads=study.best_params['num_heads'],\n",
        "    output_size=1,\n",
        "    dropout=study.best_params['dropout']\n",
        ")\n",
        "\n",
        "optimizer = Adam(model.parameters(), lr=study.best_params['lr']);\n",
        "\n",
        "# this is only to clear any unwanted prints\n",
        "clear_output()"
      ]
    },
    {
      "cell_type": "code",
      "execution_count": 18,
      "metadata": {
        "colab": {
          "base_uri": "https://localhost:8080/"
        },
        "id": "rS9c8Gw7rlha",
        "outputId": "31960da0-1cad-40b9-ed88-b468c20ba45e"
      },
      "outputs": [],
      "source": [
        "## UNCOMMENT THIS TO TRAIN THE MODEL AND SAVE THE MODEL PARAMETERS (CHECKPOINT) TO 'checkpoint.pt'\n",
        "# train_model(model, trainloader, validloader, optimizer, num_epochs=100)"
      ]
    },
    {
      "cell_type": "markdown",
      "metadata": {
        "id": "TKDg0wS8rlha"
      },
      "source": [
        "### Testing it on the LG Dataset with different temperatures"
      ]
    },
    {
      "cell_type": "code",
      "execution_count": 19,
      "metadata": {
        "id": "6dBcDMiRrlha"
      },
      "outputs": [],
      "source": [
        "test_data = SequentialLGDataset(\n",
        "    path='datasets/test0x.csv',\n",
        "    sequence_length=64,\n",
        ")\n",
        "\n",
        "testloader = get_dataloader(test_data, batch_size=128, shuffle=False)"
      ]
    },
    {
      "cell_type": "code",
      "execution_count": 20,
      "metadata": {},
      "outputs": [],
      "source": [
        "from typing import List\n",
        "\n",
        "def test_model(\n",
        "    model:nn.Module, \n",
        "    test_datasets:List[str], \n",
        "    seq_len:int=64, \n",
        "    sampling:int=100, \n",
        "    model_name:str='Transformer'\n",
        "    )->None:\n",
        "    \"\"\"\n",
        "    Test the given model on the provided test datasets.\n",
        "\n",
        "    Parameters:\n",
        "    -----------\n",
        "    model: nn.Module\n",
        "        The trained model to be tested.\n",
        "    test_datasets: List[str] \n",
        "        List of paths to the test datasets.\n",
        "    seq_len: int\n",
        "        Sequence length for the dataset. Default is 64.\n",
        "    sampling: int\n",
        "        Sampling rate for plotting. Default is 100.\n",
        "    model_name: str\n",
        "        Name of the model for display purposes. Default is 'Test'.\n",
        "    \"\"\"\n",
        "    # Set the model to evaluation mode\n",
        "    model.eval()\n",
        "\n",
        "    for dataset in test_datasets:\n",
        "        print(f'\\nTesting on {dataset}')\n",
        "\n",
        "        # Load the test dataset\n",
        "        test_data = SequentialLGDataset(\n",
        "            path=dataset,\n",
        "            sequence_length=seq_len,\n",
        "        )\n",
        "\n",
        "        # Create a DataLoader for the test dataset\n",
        "        testloader = get_dataloader(test_data, batch_size=128, shuffle=False)\n",
        "        test_loss = 0\n",
        "        y = []\n",
        "        y_pred = []\n",
        "\n",
        "        # Iterate over the test DataLoader\n",
        "        for i, (volt, current, dec_volt, dec_current, target) in enumerate(testloader):\n",
        "            # Compute the validation loss\n",
        "            loss = model.validation_step(current, volt, dec_current, dec_volt, target)\n",
        "            test_loss += loss\n",
        "\n",
        "            # Store the true and predicted values\n",
        "            y.append(target)\n",
        "            y_pred.append(model(current.cuda(), volt.cuda(), dec_current.cuda(), dec_volt.cuda()).cpu().detach())\n",
        "\n",
        "        # Calculate the average test loss\n",
        "        test_loss /= len(testloader)\n",
        "        print(f'Test Loss: {test_loss}')    \n",
        "\n",
        "        # Concatenate the true and predicted values\n",
        "        y = torch.cat(y, dim=0).numpy()\n",
        "        y_pred = torch.cat(y_pred, dim=0).numpy()\n",
        "        print(y.shape, y_pred.shape)\n",
        "\n",
        "        # Unroll the sequence\n",
        "        y = y.reshape(-1)\n",
        "        y_pred = y_pred.reshape(-1)\n",
        "        print(y.shape, y_pred.shape)\n",
        "\n",
        "        # Calculate and print evaluation metrics\n",
        "        mse = np.mean((y - y_pred) ** 2)\n",
        "        print(f'MSE: {mse * 100:.2f}%')\n",
        "\n",
        "        rmse = np.sqrt(np.mean((y - y_pred) ** 2))\n",
        "        print(f'RMSE: {rmse * 100:.2f}%')\n",
        "\n",
        "        maxx = np.max(np.abs(y - y_pred))\n",
        "        print(f'Max Error: {maxx * 100:.2f}%')\n",
        "\n",
        "        mae = np.mean(np.abs(y - y_pred))\n",
        "        print(f'MAE: {mae * 100:.2f}%')\n",
        "        \n",
        "        # Plot the results\n",
        "        dataset_name = dataset.split('/')[-1].split('.')[0]\n",
        "        plt.figure(figsize=(10, 7))\n",
        "        plt.plot(y[::sampling], label='True')\n",
        "        plt.plot(y_pred[::sampling], label='Predicted')\n",
        "        plt.xlabel('time (s)')\n",
        "        plt.ylabel('SoC')\n",
        "        plt.title(f'Testing {model_name} on {dataset_name} dataset')\n",
        "        plt.legend()\n",
        "        plt.show()"
      ]
    },
    {
      "cell_type": "code",
      "execution_count": 23,
      "metadata": {},
      "outputs": [
        {
          "name": "stdout",
          "output_type": "stream",
          "text": [
            "\n",
            "Testing on datasets/01_TEST_LGHG2@n10degC_Norm_(05_Inputs).csv\n",
            "Test Loss: 0.00017657156290076632\n",
            "(39229, 64, 1) (39229, 64, 1)\n",
            "(2510656,) (2510656,)\n",
            "MSE: 0.02%\n",
            "RMSE: 1.33%\n",
            "Max Error: 15.93%\n",
            "MAE: 0.90%\n"
          ]
        },
        {
          "data": {
            "image/png": "[encoded data removed]",
            "text/plain": [
              "<Figure size 1000x700 with 1 Axes>"
            ]
          },
          "metadata": {},
          "output_type": "display_data"
        },
        {
          "name": "stdout",
          "output_type": "stream",
          "text": [
            "\n",
            "Testing on datasets/02_TEST_LGHG2@0degC_Norm_(05_Inputs).csv\n",
            "Test Loss: 0.00020204606739369696\n",
            "(42466, 64, 1) (42466, 64, 1)\n",
            "(2717824,) (2717824,)\n",
            "MSE: 0.02%\n",
            "RMSE: 1.42%\n",
            "Max Error: 14.04%\n",
            "MAE: 0.96%\n"
          ]
        },
        {
          "data": {
            "image/png": "[encoded data removed]",
            "text/plain": [
              "<Figure size 1000x700 with 1 Axes>"
            ]
          },
          "metadata": {},
          "output_type": "display_data"
        },
        {
          "name": "stdout",
          "output_type": "stream",
          "text": [
            "\n",
            "Testing on datasets/03_TEST_LGHG2@10degC_Norm_(05_Inputs).csv\n",
            "Test Loss: 0.00045585753155912793\n",
            "(44220, 64, 1) (44220, 64, 1)\n",
            "(2830080,) (2830080,)\n",
            "MSE: 0.05%\n",
            "RMSE: 2.13%\n",
            "Max Error: 23.00%\n",
            "MAE: 1.23%\n"
          ]
        },
        {
          "data": {
            "image/png": "[encoded data removed]",
            "text/plain": [
              "<Figure size 1000x700 with 1 Axes>"
            ]
          },
          "metadata": {},
          "output_type": "display_data"
        },
        {
          "name": "stdout",
          "output_type": "stream",
          "text": [
            "\n",
            "Testing on datasets/04_TEST_LGHG2@25degC_Norm_(05_Inputs).csv\n",
            "Test Loss: 0.00010873903910654515\n",
            "(47453, 64, 1) (47453, 64, 1)\n",
            "(3036992,) (3036992,)\n",
            "MSE: 0.01%\n",
            "RMSE: 1.04%\n",
            "Max Error: 10.44%\n",
            "MAE: 0.77%\n"
          ]
        },
        {
          "data": {
            "image/png": "[encoded data removed]",
            "text/plain": [
              "<Figure size 1000x700 with 1 Axes>"
            ]
          },
          "metadata": {},
          "output_type": "display_data"
        }
      ],
      "source": [
        "# Loading the model best trained parameters from checkpoint.pt\n",
        "model.load_state_dict(torch.load('checkpoint.pt'))\n",
        "device = torch.device('cuda' if torch.cuda.is_available() else 'cpu')\n",
        "model = model.to(device)\n",
        "\n",
        "# testing the model\n",
        "test_model(\n",
        "    model,\n",
        "    test_datasets=['datasets/01_TEST_LGHG2@n10degC_Norm_(05_Inputs).csv',\n",
        "                    'datasets/02_TEST_LGHG2@0degC_Norm_(05_Inputs).csv',\n",
        "                    'datasets/03_TEST_LGHG2@10degC_Norm_(05_Inputs).csv', \n",
        "                    'datasets/04_TEST_LGHG2@25degC_Norm_(05_Inputs).csv'\n",
        "                ],\n",
        "    seq_len=64,\n",
        "    model_name='Transformer'\n",
        ")"
      ]
    },
    {
      "cell_type": "code",
      "execution_count": 25,
      "metadata": {},
      "outputs": [],
      "source": [
        "test_data = SequentialLGDataset(\n",
        "    path='datasets/UDDS_25degC_NO_C_Offset.csv',\n",
        "    sequence_length=64,\n",
        ")\n",
        "\n",
        "testloader = get_dataloader(test_data, batch_size=128, shuffle=False)"
      ]
    },
    {
      "cell_type": "code",
      "execution_count": 26,
      "metadata": {},
      "outputs": [
        {
          "name": "stdout",
          "output_type": "stream",
          "text": [
            "Test Loss: 0.00010144413799935137\n",
            "(15900, 64, 1) (15900, 64, 1)\n",
            "(1017600,) (1017600,)\n"
          ]
        }
      ],
      "source": [
        "# load the best model\n",
        "model.load_state_dict(torch.load('checkpoint.pt'))\n",
        "model.eval()\n",
        "test_loss = 0\n",
        "y = []\n",
        "y_pred = []\n",
        "for i, (volt, current, dec_volt, dec_current, target) in enumerate(testloader):\n",
        "    loss = model.validation_step(current, volt, dec_current, dec_volt, target)\n",
        "    test_loss += loss\n",
        "    y.append(target)\n",
        "    y_pred.append(model(current.to(device), volt.to(device), dec_current.to(device), dec_volt.to(device)).cpu().detach())\n",
        "\n",
        "test_loss /= len(testloader)\n",
        "print(f'Test Loss: {test_loss}')\n",
        "\n",
        "y = torch.cat(y, dim=0).numpy()\n",
        "y_pred = torch.cat(y_pred, dim=0).numpy()\n",
        "print(y.shape, y_pred.shape)\n",
        "\n",
        "# unroll the sequence\n",
        "y = y.reshape(-1)\n",
        "y_pred = y_pred.reshape(-1)\n",
        "print(y.shape, y_pred.shape)"
      ]
    },
    {
      "cell_type": "code",
      "execution_count": 28,
      "metadata": {},
      "outputs": [
        {
          "data": {
            "image/png": "[encoded data removed]",
            "text/plain": [
              "<Figure size 1000x700 with 1 Axes>"
            ]
          },
          "metadata": {},
          "output_type": "display_data"
        }
      ],
      "source": [
        "# plot the results\n",
        "sampling = 100\n",
        "plt.figure(figsize=(10, 7))\n",
        "plt.plot(y[::sampling], label='True')\n",
        "plt.plot(y_pred[::sampling], label='Predicted')\n",
        "\n",
        "plt.legend()\n",
        "plt.show()"
      ]
    },
    {
      "cell_type": "code",
      "execution_count": 29,
      "metadata": {},
      "outputs": [
        {
          "name": "stdout",
          "output_type": "stream",
          "text": [
            "MSE: 0.01%\n",
            "RMSE: 1.01%\n",
            "Max Error: 8.54%\n",
            "MAE: 0.76%\n"
          ]
        }
      ],
      "source": [
        "mse = np.mean((y-y_pred)**2)\n",
        "print(f'MSE: {mse*100:.2f}%')\n",
        "\n",
        "rmse = np.sqrt(np.mean((y - y_pred)**2))\n",
        "print(f'RMSE: {rmse*100:.2f}%')\n",
        "\n",
        "maxx = np.max(np.abs(y-y_pred))\n",
        "print(f'Max Error: {maxx*100:.2f}%')\n",
        "\n",
        "mae = np.mean(np.abs(y-y_pred))\n",
        "print(f'MAE: {mae*100:.2f}%')"
      ]
    },
    {
      "cell_type": "markdown",
      "metadata": {},
      "source": [
        "#### Test with Noised current from LG-Dataset"
      ]
    },
    {
      "cell_type": "code",
      "execution_count": null,
      "metadata": {},
      "outputs": [
        {
          "name": "stdout",
          "output_type": "stream",
          "text": [
            "\n",
            "Testing on datasets\\LA92_n10degC_0p1_C_Offset.csv\n"
          ]
        }
      ],
      "source": [
        "import os\n",
        "\n",
        "model.load_state_dict(torch.load('checkpoint.pt'))\n",
        "model = model.cuda()\n",
        "\n",
        "files = [\n",
        "    'LA92_n10degC_0p1_C_Offset.csv',\n",
        "    'LA92_n10degC_0p3_C_Offset.csv',\n",
        "    'LA92_n10degC_n0p1_C_Offset.csv',\n",
        "    'LA92_n10degC_n0p3_C_Offset.csv',\n",
        "    'LA92_n10degC_NO_C_Offset.csv'   \n",
        "]\n",
        "\n",
        "files = [os.path.join('datasets', file) for file in files]\n",
        "test_model(\n",
        "    model,\n",
        "    test_datasets=files,\n",
        "    seq_len=64,\n",
        "    model_name='Transformer'\n",
        ")"
      ]
    },
    {
      "cell_type": "code",
      "execution_count": null,
      "metadata": {},
      "outputs": [],
      "source": []
    }
  ],
  "metadata": {
    "accelerator": "GPU",
    "colab": {
      "gpuType": "T4",
      "provenance": []
    },
    "kernelspec": {
      "display_name": "Python 3",
      "name": "python3"
    },
    "language_info": {
      "codemirror_mode": {
        "name": "ipython",
        "version": 3
      },
      "file_extension": ".py",
      "mimetype": "text/x-python",
      "name": "python",
      "nbconvert_exporter": "python",
      "pygments_lexer": "ipython3",
      "version": "3.12.2"
    }
  },
  "nbformat": 4,
  "nbformat_minor": 0
}
